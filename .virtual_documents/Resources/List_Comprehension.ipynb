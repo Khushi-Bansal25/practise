








# The list of numbers
list_of_numbers = [1, 2, 4, 6, 11, 14, 17, 20]





# Let us first initialize a list where we will be appending the squares in each iteration

squared_numbers = []

for number in list_of_numbers:
  # Use the append method to add the numbers one by one to our list
  squared_numbers.append(number**2)
  # print(squared_numbers)

print(f"The list of squared numbers is {squared_numbers}")





# Getting the list of squares using list comprehension
squared_numbers = [number**2 for number in list_of_numbers]
print(squared_numbers)





print(list_of_numbers)


# Writing list comprehension using conditionals
even_squared_numbers = [number**2 for number in list_of_numbers if number%2==0]
print(even_squared_numbers)


# Writing list comprehension using conditionals
odd_squared_numbers = [number**2 for number in list_of_numbers if number%2!=0]
print(odd_squared_numbers)


new_numbers = [number**2 for number in list_of_numbers if number%2!=0 else number**3]
print(new_numbers)


# Writing list comprehension using conditionals
odd_squared_numbers = [number**2 if number%2!=0 else number**3 for number in list_of_numbers ]
print(odd_squared_numbers)




















list(range(4))


list_of_numbers = []

for num1 in range(4):
  for num2 in range(3):
    # print(num1,num2)
    list_of_numbers.append(num1)

print(list_of_numbers)


# We can write it in a slightly different way
list_of_numbers = [num1 for num1 in range(4) for num2 in range(3)]
print(list_of_numbers)





list_of_numbers = [num2**2 for num2 in range(3) for num1 in range(4)]
print(list_of_numbers)








sample = [[]]
len(sample)

sample[0]


list_of_lists = []

for num1 in range(4):
  # Append an empty sublist inside the list
  list_of_lists.append([])  # [[0]] , list_of_lists[1]
  # print(list_of_lists)

  for num2 in range(3):
    # Append the elements within the sublist
    list_of_lists[num1].append(num2)  #list_of_lists[0]

print(list_of_lists)


# Using list comprehension we can write the same thing
list_of_lists = [[num2 for num2 in range(3)] for num1 in range(4)]
print(list_of_lists)


# Using list comprehension we can write the same thing
list_of_lists = [[num1 for num2 in range(3)] for num1 in range(4)]
print(list_of_lists)





heisenberg_quote = "It ceases to exist without me. No, you clearly don't know who you're talking to, so let me clue you in. I am not in danger, Skyler. I am the danger."


words_by_walter = heisenberg_quote.split(' ')
print(words_by_walter)


heisenberg_quote.split('.')


# Let u store the first letter of each word in another list

first_letters = []

for word in words_by_walter:
  first_letters.append(word[0])

# Print the first_letters list
print(first_letters)


# The same task but now with list comprehension
first_letters = [word[0] for word in words_by_walter]
print(first_letters)


heisenberg_quote.split(',')


my_string = 'Alphabet Inc.'

list_of_characters = [char for char in my_string]
print(list_of_characters)





# Suppose we have a tuple of days
days = ('Monday' ,'Tuesday' ,'Wednesday' ,'Thursday' ,'Friday','Saturday','Sunday')


tuple(day for day in days)


# Let us create a tuple where we want to remove the word 'day' from each tuple element
days_without_day = tuple([day[:-3] for day in days])
print(days_without_day)








# Using a for loop
first_letters = set()
for word in words_by_walter:
    first_letters.add(word[0])

print(first_letters)


# Using set comprehension
first_letters = {word[0] for word in words_by_walter}
print(first_letters)





country_city_list = [('India','New Delhi'),('Australia','Canberra'),('United States','Washington DC'),('England','London')]


# Lets convert the list of tuples to a dictionary
country_city_dict = dict(country_city_list)
print(country_city_dict)





# The conventional for loop approach
flipped = {}
for country, city in country_city_dict.items():
    flipped[city] = country

print(flipped)


# The new dictionary comprehension
flipped = {city:country for country, city in country_city_dict.items()}
print(flipped)


# We can further add conditionals
flipped = { city : country for country, city in country_city_dict.items() if country[0] not in ['E','A']}
print(flipped)


# The new dictionary comprehension
flipped = {country[:2] : city[-2:] for country, city in country_city_dict.items()}
print(flipped)


print(country_city_dict)



