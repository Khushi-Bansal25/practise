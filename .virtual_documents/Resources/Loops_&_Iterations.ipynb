














# Consider a list of strings

got_houses = ['Stark', 'Arryn', 'Baratheon', 'Tully', 'Greyjoy', 'Lannister', 'Tyrell', 'Martell', 'Targaryen']


# A simple for loop to print the houses of GOT universe
for house in got_houses[::-1]:
  print(f"House {house}")





got_houses


# Using enumerate function to loop through the elements of a list
for number,house in enumerate(got_houses):
  print(f"The house no of house {house} is {number + 1}")


x = 1,2


x


list(enumerate(got_houses))





# The list of numbers
list_of_numbers = [1, 2, 4, 6, 11, 14, 17, 20]


# Let us first print the squares
for number in list_of_numbers:
  squared_number = number**2
  print(f"The square of {number} is {squared_number}")





list_of_numbers


# Let us first initialize a list where we will be appending the squares in each iteration

squared_numbers = []

for number in list_of_numbers:
  square = number**2
  # Use the append method to add the numbers one by one to our list
  squared_numbers.append(square)
  # print(squared_numbers)

print(f"The list of squared numbers is {squared_numbers}")


print(list_of_numbers)
print(squared_numbers)


# Let us zip the original numbers and squares together and get the dictionary
zipped_dict = dict(zip(list_of_numbers,squared_numbers))

# Let us print the dictionary where the key is the number and the value is the square of that number
print(zipped_dict)





print(list_of_numbers)


# Let us first print the squares
for number in list_of_numbers:
  if number%2 == 0:
    squared_number = number**2
    print(f"The square of {number} is {squared_number}")
  else:
    print(f"I am an odd number {number}.My master prohibits me from printing the squares of odd numbers. Strange but okay!")

# print("\n")
# print("I am finished with my iteration")





list(range(10))


# Let us first print the squares
for number in range(0,10,2):
  squared_number = number**2
  print(f"The square of {number} is {squared_number}")


for i in range(2,21,2):
  print(i)





# Print our list
print(list_of_numbers)


# Let us the initialize the sum of the squares with 0. This makes sense right!
sum_squares = 0

for number in range(1,11):
  sum_squares = sum_squares + number
  print(sum_squares)

# Now we have added the squares of all the numbers in our list
print(f"The sum of the squares of our list of numbers is {sum_squares}")





# Let us first store the sentence in a string variable
heisenberg_quote =  "I am the one who knocks!"





for char in heisenberg_quote:
  print(f" The character is {char}")


# Lets apply a for loop to do the above task

for index,char  in enumerate(heisenberg_quote):
  print(f" The index is {index} and the character is {char}")





heisenberg_quote = "It ceases to exist without me. No, you clearly don't know who you're talking to, so let me clue you in. I am not in danger, Skyler. I am the danger."


words_by_walter = heisenberg_quote.split(' ')
print(words_by_walter)


# Now we can print each word by iterating through this list
for word in words_by_walter:
  if word not in ['I','you']:
    print(f"The word is {word}")





# Suppose we have a tuple of days
days = ('Monday' ,'Tuesday' ,'Wednesday' ,'Thursday' ,'Friday','Saturday','Sunday')

for day in days:
  print(f"Today is {day}")








country_city_river_list = [('India','New Delhi','Ganga'),('Australia','Canberra','Rovers'),('United States','Washington DC','Missouri'),('England','London','Thames')]


# Let us iterate through each tuple element of this list and unpack each item

for country,city,river in country_city_river_list:
  # print(country_city)
  print(f"The capital of the country {country} is {city} and it also has the river {river}.")





# Lets convert the list of tuples to a dictionary
country_city_dict = dict(country_city_list)
print(country_city_dict)


for item in country_city_dict:
  print(item)


country_city_dict.items()





for country,city in country_city_dict.items():
  print(f"The capital of {country} is {city}")


for elem in {1,2,3}:
  print(elem)








x = 0

while x < 10:
  print('x is currently: ',x)
  print('x is still less than 10, adding 1 to x')
  x=x+1





x = 0

while x < 5:
  print('x is currently: ',x)
  print(' x is still less than 10, adding 1 to x')
  x+=1

print("All done")
print("I am done with the iterations")





x = 0

while x < 10:
  print('x is currently: ',x)
  print(' x is still less than 10, adding 1 to x')
  # x+=1
  if x==3:
    print('x==3')
    break
  else:
    print('continuing...')
    continue






x = 0

while x < 10:
  print('x is currently: ',x)
  print(' x is still less than 10, adding 1 to x')
  x+=1
  break

else:
  print('continuing...')



x = 0

while x < 10:
  print('x is currently: ',x)
  print(' x is still less than 10, adding 1 to x')
  x+=1
  pass

else:
  print('continuing...')





for elem in list_of_numbers:
  while elem > 3:
    pass
  else:



l = []
for elem in l :
  print(elem)



