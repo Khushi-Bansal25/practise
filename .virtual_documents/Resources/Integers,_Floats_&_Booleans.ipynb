








# Addition
2+1


# Subtraction
2-5


# Multiplication
2*2


# Division
3/2


# Floor Division
7//2


# Exponentiation
2**5


# Modulus - remainder when dividing with this 
5%6


# Order of Operations followed in Python
2 + 10 * 10 + 3


2+ 10* (10+3)


# Scientific Notation for representing large numbers
4E6














# You can store numbers in variables.
# The standard rule is you write the variable name followed by = sign and the value it will take

x=5


x


y=6.4
y


print(y)





# Addition
z = x+y

print(z)


# Printing the memory address the variable z occupies
print(hex(id(z)))





# Subtraction
z = x-y

# Use the in-built print function to print the variable
print(z)


# Printing the memory address the variable z occupies
print(hex(id(z)))


 # Find out the data type of variable z
type(y)


# Multiplication
z = x*y

print(z)  # Print the variable z
type(z)   # Get the data type of variable z


# Division
z = x/y

print(z) # Print the variable z
type(z)  # Get the data type of variable z


# Floor division
z= x//y  #  Remember x=5, y=6.4
print(z)





# Modulo operator
y=5
x=3

z = y%x       # Modulus is denoted by % sign
print(z)


# Using powers and exponents

z = x**y    # We did not even need to store it in another variable nor use print command
print(z)


# BODMAS nostalgia
some_random_operation =(x+y)/y + (y-x)*x

print(some_random_operation)
type(some_random_operation)


# Storing large integer numbers
avogadro = 6.22E23

print(avogadro)





1oNone = 4


onone_abc_1 = 5


list = 5


list














# Set object to be a boolean
boolean_variable = False
type(boolean_variable)


#Show
boolean_variable





2 == 3


2==0








2!=0


2!=2





a=3
b=2
a> b


a == 3


b > 4





10 < 45


4 < 2





3 >=2


4 >= 4





3 <= 0


1 <= 2



