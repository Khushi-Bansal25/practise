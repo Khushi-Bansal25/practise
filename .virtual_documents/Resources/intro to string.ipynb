








# Single word
my_first_string= 'algebra'
my_first_string


# Entire phrase
phrase = 'Statistics sits at the heart of machine learning'
print(phrase)


# Statement to get the type of the variable
type(phrase)


# We can also use double quote
my_string = "String built with double quotes"
print(my_string)   # Use the print command


# Be careful with quotes!
sentence= 'I'm using single quotes, but this will create an error'
print(sentence)





sentence= "I'm using single quotes, but this will create an error"
print(sentence)


hashtag = "#"
print(hashtag)


type(hashtag)








# We can simply declare a string
'Deep Learning'


# Note that we can't output multiple strings this way
'Linear Algebra'
'Calculus'





# print('Linear Algebra')
# print('Calculus')
print('Use \n to print a new line')
print('\n')
print('See what \n I mean?')








algo = 'regres sion '
len(algo)








# Assign string as a string
string  = 'Principal Component Analysis!'


# Print the object
print(string)





# Show first element (in this case a letter)
print(string[5])


print(string[15])


len(string)


# Grab the element at the index -1, which is the LAST element
print(string[28])


print(string[-2])








# Grab everything past the first term all the way to the length of s which is len(s)
print(string)
print(string[:13])


string[13]


string[12]


# Grab everything starting from index 10 till index 18
print(string[10:])





print(string[3:5])





print(string[2:4])





#Everything
print(string[:])
print(string)





# Last letter (one index behind 0 so it loops back around)
string[-29]





string[-1:-4]


string[-4:]





# Grab everything, but go in steps size of 1
print(string[::1])


print(string[::3])


# Grab everything, but go in step sizes of 5
print(string[5:15:5])


string[::1]


# We can use this to print a string backwards
string[::-1]


# We can use this to print a string backwards with steps
string[2:4:-1]


string[4:2:-1]


s = 'foobar'
s[0::-3]





# Can we change our string 'Hello' to 'Cello'? Lets try replacing the first letter H with C
string='Hello'
string[0] = 'C'





# Concatenate strings!

string1='abc'
string2='def'
print(string1 + ' ' + string2 )


print(string1 + 4 + string2)





# Concatenate strings!

string1='abc'
string2='def'
num = 4
print(string1 + str(4) + string2)


str(num)


# Concatenate strings!
string1='abc'
string2='def'
string1 + '4'+ string2


print(string)


# We can reassign string completely though!
string = string + ' concatenate me!'
print(string)


letters = 'wubba'
letters*3





algorithm = 'Neural Networks'

print(algorithm)





# Print the length of the string
len(algorithm)





# Conver the string to lowercase
algorithm.lower()


print(algorithm)





# Lets try that out
lower(algorithm)





# Convert the string to uppercase
algorithm.upper()


print(algorithm)





print(algorithm)


algorithm.count('Ne')


algorithm.count('eu')


algorithm.count(' ')


algorithm.count('Neural')


algorithm.count('Neurla')





print(algorithm)


algorithm.find('e')


algorithm.find('Neural')


algorithm.find('Box')








print(algorithm)


algorithm.replace(' ','-')


algorithm.replace('N','L')


print(algorithm)





# Storing the modified string
algorithm_revised  = algorithm.replace('Neural','Artificial Neural')
print(algorithm_revised)
print(algorithm)





first_name = 'Rahul'
last_name = 'Modi'

full_name = f'Left plus right makes {first_name}  {last_name}'  # Use {} to print the variable you want to
print(full_name)


print(first_name + ' '+last_name)





first_name = 'Vikash'
middle_name = ''
last_name = 'Srivastava'

full_name = f'I am none other than {first_name} {middle_name}{last_name}. I am a Data Scientist'
print(full_name)


print(f'I am none other than {first_name} {middle_name}{last_name}. I am a Data Scientist')





my_string = 'Albert Einstein'


'Albert' in my_string


'Alberta' in my_string



