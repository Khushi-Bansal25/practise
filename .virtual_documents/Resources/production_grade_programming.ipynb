





empty_list = []


empty_list


another_empty_list = list()


another_empty_list





another_empty_list.append(2)


another_empty_list


another_empty_list.append(1)
another_empty_list.append(3)


another_empty_list


another_empty_list.index(3)





the_sixth_sense = 6
print(type(the_sixth_sense))


two_and_a_half_men = 2.5
print(type(two_and_a_half_men))


schindlers_list = list()
print(type(schindlers_list))


another_list = list()


tharoor = {'farrago':'a confused mixture'}
print(type(tharoor))





# Create a new object type called FirstClass
class FirstClass:
    pass


# Instance of FirstClass
x = FirstClass()
print(type(x))


y = FirstClass()
print(type(y))





class Dog:

    def __init__(self, breed, name):
        self.breed_attribute = breed
        self.name_attribute = name


sam_object = Dog(breed='Lab', name = 'Sam')
frank_object = Dog(breed='Huskie', name = 'Frank')


sam_object.breed_attribute








sam_object.name_attribute


frank_object.name_attribute








class Circle:

  def __init__(self, radius=1):
    self.radius = radius
    self.area = 3.14 * radius * radius

  def setRadius(self, new_radius):
    self.radius = new_radius
    self.area = 3.14 * new_radius * new_radius

  def getCircumference(self):
    return 2 * 3.14 * self.radius


c = Circle()


c.area


c.getCircumference()


print('Radius is: ', c.radius)
print('Area is: ', c.area)
print('Circumference is: ', c.getCircumference())





c.setRadius(4)

print('Radius is: ', c.radius)
print('Area is: ', c.area)
print('Circumference is: ', c.getCircumference())








class HouseStark:
    def __init__(self, sigil):
        self.sigil = sigil

    def motto(self):
        return "House Stark with sigil " + self.sigil + " has the motto 'Winter is coming'"


class HouseLannister:
    def __init__(self, sigil):
        self.sigil = sigil

    def motto(self):
        return "House Lannister with sigil " + self.sigil + " has the motto 'Hear me roar'"


arya = HouseStark('direwolf')
tyrion = HouseLannister('golden lion')


print(arya.motto())


print(tyrion.motto())





for warrior in [arya, tyrion]:
    print(warrior.motto())





def get_motto(warrior):
    print(warrior.motto())

get_motto(arya)
get_motto(tyrion)











print('XGBoost)








try:
    print("Good to go!")
    print('a', fwdfdwafwf)
    print('b')
except:
    # This will check for any exception and then execute this print statement
    print("Oops!")
    print('c')
    print('d')
else:
    print("No errors encountered!")
    print('e')
    print('f')





try:
  print("Execute try statements")
finally:
  print("Always execute finally code blocks")





a = 1
b = 0.2


try:
    print(afdwfwf, type(aefwffewf))
except:
    print(b, type(b))
finally:
    print('Type printed')


try:
    a = 1
    print(adefewdwd)
    try:
      print(type(afggdgdsgg))
    except:
      print('Error occured')
except Exception as ex:
    print('The error is : ', ex)
    print(b, type(b))











# Calculate the distance between the pick-up location and the drop location

import geopy.distance

def get_distance(location_1, location_2):

    distance = geopy.distance.distance(location_1, location_2).km

    return distance


def get_price_per_km(hour):

    if (hour > 8) & (hour < 11):
        price_per_km = 20
    elif (hour > 18) & (hour < 21):
        price_per_km = 15
    else:
        price_per_km = 10

    return price_per_km


def get_final_price(pick_up_location, drop_location, booking_hour):

    total_distance = get_distance(pick_up_location, drop_location)
    actual_price_per_km = get_price_per_km(booking_hour)

    final_price = round(total_distance * actual_price_per_km, 2)

    return final_price


# Inputs

pick_up_location = (24, 70)
drop_location = (24.1, 70.1)
booking_time = 19


# Output

get_final_price(pick_up_location, drop_location, booking_time)





# Calculate the distance between the pick-up location and the drop location

import geopy.distance
import math

class Maps:

    def __init__(self):
        pass

    def get_distance(self, location_1, location_2):

        try:
            distance = geopy.distance.distance(location_1, location_2).km
        except:
            distance = math.sqrt((location_1[0]-location_2[0])^2 + (location_1[1]-location_2[1])^2)

        return distance


class SurgePricing:

    def __init__(self):
        pass

    def get_price_per_km(self, hour):

        try:

            if (hour > 8) & (hour < 11):
                price_per_km = 20
            elif (hour > 18) & (hour < 21):
                price_per_km = 15
            else:
                price_per_km = 10

        except:

            price_per_km = 10

        return price_per_km


def get_final_price(pick_up_location, drop_location, booking_hour):

    maps = Maps()
    surge = SurgePricing()

    total_distance = maps.get_distance(pick_up_location, drop_location)
    actual_price_per_km = surge.get_price_per_km(booking_hour)

    final_price = round(total_distance * actual_price_per_km, 2)

    return final_price


# Output

get_final_price(pick_up_location, drop_location, booking_time)






