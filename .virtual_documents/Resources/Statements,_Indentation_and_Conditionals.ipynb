





# Assignment statement
x = 3


print(1 + 1)
print(len("Hello Team AlmaBetter"))





y = 3.14


y


a = 'Mighty'
# b = a == True


a == True





# Import statement
import pandas as pd


print(y)


y














x = 1
y = 2
+ 5
z = 3


y


a = 1 + 2 + 3 + 4 + 5 + 6+ 7+ 8+ 9 + 10


a





my_list = [1]
my_tuple = (1,)


my_list, my_tuple


a = (1 + 2 + 3 + 4 +

     5 + 6 + 7 +
     8 + 9 + 10


a


type(a)





a = 1
b = 2


colors = 'Set theory is the mathematical theory of well-determined collections, called sets, of objects that are called members, or elements, of the set. Pure set theory deals exclusively with sets, so the only sets under consideration are those whose members are also sets. The theory of the hereditarily-finite sets, namely those finite sets whose elements are also finite sets, the elements of which are also finite, and so on, is formally equivalent to arithmetic. So, the essence of set theory is the study of infinite sets, and therefore it can be defined as the mathematical theory of the actual—as opposed to potential—infinite.'


colors = 'Set theory is the mathematical theory of well-determined collections, called sets, \
of objects that are called members, or elements, of the set. Pure set theory deals exclusively \
with sets, so the only sets under consideration are those whose members are also sets.\
The theory of the hereditarily-finite sets, namely those finite sets whose elements are also finite sets,\
 the elements of which are also finite, and so on, is formally equivalent to arithmetic. \
 So, the essence of set theory is the study of infinite sets, and \
 therefore it can be defined as the mathematical theory of the actual—as opposed to potential—infinite.'


colors





a = 1
b = 2
c = 3


a = 1 ; b = 2 ; c = 3


c


a = 1
b = 2
c = 3


a, b, c = [1, 'a', True], (45, 67), {'Name' : 'Vikash' , 'Age' : 27}


a


b


c


a, b = b, a


a


b








# This is a comment
# print('Hello')
print('Hello')





# This is a long comment
# and it extends
# to multiple lines





'''This is also a
perfect example of
ahjcdjh
sdjbdkjas
mnbscjsab
bkjabfa
multi-line comments'''

a = 3
print(a)








 a=2
 b=1

# if b > a:
#   a = 5
#   b = 5


 a


b


a, b = 1, 2


if a < b :









if case1 :
  # do some action
  elif case 5 :
    # another action
elif case2 :
  # do some another action
else:
  # do some yet another action


x=20   # Statement 1 - Assignment statement

if x == 30 :
  print('x is greater than 10!')
  print(f'x is {x}')





x == 20


if True:
  print('It was true!')


if False:
  print('It was true!')





x = False
y = True

if x:
  print('y was True!')
else:
  print('I will be printed in any case where x is not true')





city = 'Pune'

if city == 'New Delhi':
  print('Welcome to the Indian Capital')
elif city == 'Mumbai':
  print('Welcome to the Financial Capital of India!')
else:
  print('Where are you?')





person = 'Johnny'

if person == 'John':
    print(f'Welcome {person}!')
else:
    print("Welcome, what's your name?")


number1 = -2
number2 = 9

if number1 > 0:
  if number2 < 10 :
    print(number2 + number1)
  else:
    print("Should be greater than 10")

elif number1 < 0:
    print("Ah, that's a negative number")
else:
    print("The number is zero!")








# Consider the following statement

if False:
  print("What do you say?")
else:
  print("I have nothing to say")


if [None]:
  print("Well I had a really bad day!")
else:
  print("Come on you aced your test.")


if {1:2,3:4}:
  print("This is True")
else:
  print("This is False")



