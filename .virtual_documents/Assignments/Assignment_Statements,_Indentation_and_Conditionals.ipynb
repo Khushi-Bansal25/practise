





# Take a proper date input from the user in the format YYYY-MM-DD. Consider this date as a string
user_date = input("Enter the date (YYYY-MM-DD): ")
# Write your code using if else statements to extract the quarter
date_year = int(user_date.split("-")[0])
date_month = int(user_date.split("-")[1])
if 1 <= date_month <= 3:
    quarter = f"{date_year}-Q1"
elif 4 <= date_month <= 6:
    quarter = f"{date_year}-Q2"
elif 7 <= date_month <= 9:
    quarter = f"{date_year}-Q3"
elif 10 <= date_month <= 12:
    quarter = f"{date_year}-Q4"
else:
    print("Invalid month. Please enter a valid date.")
# Store the quarter value in a string variable named quarter
print(quarter)







# Print the extracted quarter






# Surveyed data

locality_data = {'Name' : ['Abhinav','Sohail','Dheeraj','Rashmi','Vaishali'],
                  'Age' : [42,29,35,28,32],
                  'Sex' : ['Male', 'Male','Male','Female','Female'] ,
                  'Height' : [172,175,170,168,170],
                  'Weight' : [70,82,60,55,64]
                 }





# Calculate the mean height and print it
height = locality_data['Height']
mean_height = sum(height)/len(height)
print(mean_height)


# Calculate the median height and print it
height.sort()
print(height)
median = len(height)//2
print(height[median])

# Calculate the mean weight and print it
weight = locality_data['Weight']
mean_weight = sum(weight)/len(weight)
print(mean_weight)


# Calculate the median weight and print it
weight.sort()
print(weight)
median = len(weight)//2
print(weight[median])





# Python code to print the first three elements for the key 'Age'

ages = locality_data['Age']
print(ages[0:3])







# Your code below


names = locality_data['Name']

if 'Rashmi' in names:
   
    print(names[-2:])  
else:
    print('Name not found')







# Enter your input

print("Number of classes held")
classes_held = int(input())

print("Number of classes attended")
classes_attended = int(input())


# Calculate the attendance percentage
attendance = classes_attended*100/classes_held

print(f'The attendance is {attendance}')





# Your code here
if attendance < 75:
    print("not allowed")
else:
    print("allowed")





# Your input here
print("Enter your marks")
marks = int(input())


# Your code here to print the corresponding grade
if marks<25:
    print("F")
elif 25<=marks<45:
    print("E")
elif 45<=marks<50:
    print("D")
elif 50<=marks<60:
    print("C")
elif 60<=marks<80:
    print("B")
else:
    print("A")
    













