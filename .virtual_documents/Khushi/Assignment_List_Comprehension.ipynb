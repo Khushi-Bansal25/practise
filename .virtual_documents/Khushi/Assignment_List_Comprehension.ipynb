








# Dictionary of house area and house prices of 6 houses in
house_area_price_dict = {1056 : 39, 2600 : 120 , 1520 : 95, 1200 : 50, 2700 : 200, 1100 : 40}





area = list(house_area_price_dict.keys())
output = [i* 0.05+10 for i in area ]
print(output)
print ("a")





house_area_price_dict = {1056 : 39, 2600 : 120 , 1520 : 95, 1200 : 50, 2700 : 200, 1100 : 40}
# Create a list of house areas
house_areas =list(house_area_price_dict.keys())

# Use list comprehension to store the predicted house prices in a list
predicted_house_prices =[i*0.05+10 for i in house_areas]

# Print the list of predicted house prices
print(predicted_house_prices)





# List of actual house prices
house_area_price_dict = {1056 : 39, 2600 : 120 , 1520 : 95, 1200 : 50, 2700 : 200, 1100 : 40}
act_hourse_prices=list(house_area_price_dict.values())
predicted_house_prices =[62.800000000000004, 140.0, 86.0, 70.0, 145.0, 65.0]
# Zip the two price lists together
zip_tup=zip(act_hourse_prices,predicted_house_prices)
print(list(zip_tup))

# List of squared differences between each element of the two lists using list comprehension
# squared_difference_in_prices =











# List of the values of x

x = [3, 9, 10, -4, -2, 1, 0, 4, 5, 7]


# Calculate the corresponding sigmoid functions values using list comprehension. Take the value of e = 2.718
sigmoid_of_x = [1/(1 + 2.718**(-i)) for i in x ]
print(sigmoid_of_x )


# Return a list of boolean values if the sigmoid_of_x is greater than 0 and less than 1
boolean = True
for i in sigmoid_of_x:
    if 0<i<1:
        print(boolean)
    else:
        boolean = False
    print(boolean)
sigmoid_of_x = [0.9525600725169616, 0.9998764902378104, 0.9999545550385778, 0.017993536805962367, 0.1192246961081721, 0.7310381925766541, 0.5, 0.9820064631940376, 0.9933037016996081, 0.9990882879369025]
# Create a list of those values which are greater than 0.5
list1 = list([i>0.5 for i in sigmoid_of_x])
print(list1)





# Your sentence
my_sentence = "I have been walking and running and dancing and smiling and laughing all my life, yet it all seems pointless."


# Using list comprehension, extract those words which ends with ing

all_words_in_sentence = my_sentence.split(" ")
print(all_words_in_sentence)

# Words ending with ing
words_ending_with_ing =  [i for i in all_words_in_sentence if i.endswith("ing")]


# Print those words
print(words_ending_with_ing)





# A sample sentence

sentence = 'Hello, good morning folks! Today we will announce the half yearly performance results of the company. Due to the ongoing COVID-19 pandemic, our profits have declined by 60% as compared to the last year'

# Print your sentence
print(sentence)


# Default set of stop words
stop_words = {"i", "me", "my", "myself", "we", "our", "ours", "ourselves", "you", "your", "yours", "yourself",
              "yourselves", "he", "him", "his", "himself", "she", "her", "hers", "herself", "it", "its", "itself",
              "they", "them", "their", "theirs", "themselves", "what", "which", "who", "whom", "this", "that",
              "these", "those", "am", "is", "are", "was", "were", "be", "been", "being", "have", "has", "had",
              "having", "do", "does", "did", "doing", "a", "an", "the", "and", "but", "if", "or", "because",
              "as", "until", "while", "of", "at", "by", "for", "with", "about", "against", "between", "into",
              "through", "during", "before", "after", "above", "below", "to", "from", "up", "down", "in", "out",
              "on", "off", "over", "under", "again", "further", "then", "once", "here", "there", "when", "where",
              "why", "how", "all", "any", "both", "each", "few", "more", "most", "other", "some", "such", "no",
              "nor", "not", "only", "own", "same", "so", "than", "too", "very", "s", "t", "can", "will", "just",
              "don", "should", "now"}


# Update the set of stop words by adding the custom stop words
custom_stop_words = ["hello","good","morning","half","year"]
new_words = list(stop_words)
# Your code here
new_words.extend(custom_stop_words)
# Print the stop words in a sorted manner
print(sorted(new_words))


# Create the list of words in the given sentence
words_in_sentence = sentence.split(" ")
print(words_in_sentence)


# Use list comprehension to remove the set of updated stop words from the list of words
new_sentence = [i for i in words_in_sentence if i not in new_words ]
print(new_sentence)


# Finally using the join() method, get the sentence without the stop words. Keep in mind that every word in the sentence will be separated by space
final = " ".join(new_sentence)

# Print the modified sentence
print(final)



