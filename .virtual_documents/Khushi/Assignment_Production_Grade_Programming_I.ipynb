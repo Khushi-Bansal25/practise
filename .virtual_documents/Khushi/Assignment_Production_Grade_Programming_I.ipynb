





# Write your code below. Take pi as 3.14
class Cylinder:
    pi = 3.14
    def __init__(self, radius, ht):
        self.radius = radius
        self.ht = ht
    def volume(self):
        return self.pi*self.radius*self.radius*self.ht
    def surface_area(self):
        return 2*self.pi*self.radius*self.ht


# Check for sample inputs
a = Cylinder(3,14)
print(a.volume())
print(a.surface_area())






# Write your BankAccount class below

class BankAccount:
  def __init__(self):
    self.bal=0
  def withdraw(self,amt):
    if self.bal>amt:
      self.bal-=amt
      return f"withdraw success of {amt}:\n remaining bal:{self.bal}"
    else:
      return "Insufficient funds"
  def deposit(self,amt):
    self.bal+=amt
    return f"deposit success of {amt}\n rem bal:{self.bal}"







# Create two instances of this class for two customers
c1=BankAccount()
c2=BankAccount()





# Deposit some amount and withdrawing some amount from the two accounts and check if your method works fine

print("for c1 "+c1.deposit(70))
print("for c1 "+c1.deposit(20))
print("for c1 "+c1.withdraw(21))

print("for c2 "+c2.deposit(6))
print("for c2 "+c2.deposit(9))
print("for c2 "+c2.withdraw(5))









class Time:
  def __init__(self,hrs,min):
    self.hrs=hrs
    self.min=min
  def DisplayTime(self):
    am_list=[i for i in range(0,12)]
    pm_list=[i for i in range(13,24)]

    #validation
    if self.hrs>23:
      print("The input hours should be less than 24")
    elif self.min>59:
      print("The input minutes should be less than 60")
    else:
      #Main processing
      if self.hrs in am_list:
        print(f"The time is {self.hrs}:{self.min} AM")
      elif self.hrs==12:
        print(f"The time is {self.hrs}:{self.min} PM")
      else:
        print(f"The time is {self.hrs-12}:{self.min} PM")



# Check for few sample inputs of hours and mins
hour_min_list = [(23,45), (34,50), (12,34), (14,67),(19,20), (2,15), (0, 10)]

# Using a for loop display the corresponding 12 hour time format for the above hour_min_list
for i in range(len(hour_min_list)):
  T=Time(hour_min_list[i][0],hour_min_list[i][1])
  T.DisplayTime()




# Also display the corresponding ratios for the above list






