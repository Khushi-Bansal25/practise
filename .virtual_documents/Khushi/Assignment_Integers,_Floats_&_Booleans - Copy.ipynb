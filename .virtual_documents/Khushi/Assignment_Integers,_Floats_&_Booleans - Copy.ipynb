





win = 3
draws = 1
loss = 0


total_number_of_points = (4*win)+(3*loss)+(1*draws)
print(total_number_of_points)





# Calculate the value of the function f(x) at x = 2
x = 2
fx1 = (x**2) + (3*x) - 4
# Print the value below
print(fx1)


# Calculate the value of the function f(x) at x = -1
x = -1
fx2 = (x**2) + (3*x) - 4
# Print the value below
print(fx2)


# Calculate the value of the function f(x) at x = 1
x = 1
fx3 = (x**2) + (3*x) - 4
# Print the type of the variable below
print(fx3)





# Check whether 2 is a root of f(x)
x = 2
fx = (x**2) + (3*x) - 4
fx == 0


# Check whether -1 is a root of f(x)
x = -1
fx2 = (x**2) + (3*x) - 4
fx2 == 0


# Check whether 1 is a root of f(x)
x = 1
fx3 = (x**2) + (3*x) - 4
fx3 == 0





# Calculate the percentage of apples and print the variable
apple = 45
orange = 65
bananas = 30
total = apple + orange + bananas
percentage = (apple/total)*100
print(percentage, "%")



# Calculate the percentage of oranges and print the variable
apple = 45
orange = 65
bananas = 30
total = apple + orange + bananas
percentage = (orange/total)*100
print(round(percentage,2), "%")



# Calculate the percentage of bananas and print the variable
apple = 45
orange = 65
bananas = 30
total = apple + orange + bananas
percentage = (bananas/total)*100
print(percentage, "%")









maths = 30
eco = 45
physics = 25
correct_maths = 20
correct_eco = 30
correct_physics = 20
maths_acc = (20/30)*100
print("Maths accuracy: ",maths_acc, "%")
eco_acc = (30/45)*100
print("Economics accuracy: ",eco_acc, "%")
physics_acc = (20/25)*100
print("Physics accuracy: ",physics_acc, "%")
total = ((20+30+20)/(45+30+25))*100
print("Total accuracy: ",total, "%")




