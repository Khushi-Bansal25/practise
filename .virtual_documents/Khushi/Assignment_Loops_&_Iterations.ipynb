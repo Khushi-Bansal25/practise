





# Create your dictionary below with keys as position of the alphabet and the value of the key will be the alphabet itself

# Create a list of numbers from 0 to 26 using the range() function
list_of_numbers = list(range(27))

# Create the list of alphabets. Hint use the split() method
alphabets = " ,a,b,c,d,e,f,g,h,i,j,k,l,m,n,o,p,q,r,s,t,u,v,w,x,y,z"
alphabet_list = dict(zip(list_of_numbers, alphabets.split(",")))

print(alphabet_list)


# Create a dictionary by zipping together the above two lists
alphabet_dict =


# Print your dictionary to double check;
print(alphabet_dict)





# Store the message in a variable
encrypted_message = ("ajsuydtbe", "", "wunjbfusnjrgut", "uhbhr", "oirun", "lpef", "", "vhejsibr", "ydtse", "qlvuusrntuos", "ijwlbutybhlsoaxh")


# Follow the steps from your solution to problem 1

# Create an empty list
string_length_list  = []

# Append the length of strings in the tuple using a for loop
for message in encrypted_message:
    string_length_list.append(len(message))

# Print the list of string lengths
print(string_length_list)




# Create a string to store the decrypyted message
decrypted_message = ""

# Concatenate the characters using a for loop to get your final decoded message



# Print the message you have decrypted






# Store the list of jumbled word in a variable
jumbled_word = ["hugdtck", "tsogbklesrawqcbjplu", "qkisrubskoaitbt", "nslaoetr", "oksinjioaendnjsdqwbh"]


# Create an empty list
string_length_list = []

# Append the length of each string in the list using a for loop




# Print the above list


# Create another list to store the corresponding characters and add the characters using for loop
chars_in_jumbled_state = []




# Print this list of jumbled characters
print(chars_in_jumbled_state)


# Get the  sorted list
sorted_char_list =

# Print the sorted list


# Get all the characters in one word. Use join() method on a null string and pass the sorted char list as the argument of this method. Use help(join) to know more about it.
correct_word =

# Print the complete message
print(f"I saw a {correct_word} please help me soon")





# Take the user input

perfect_number_candidate = int(input())


# Using a while loop check if a number is a perfect number














# Liam Neeson's quote
movie_quote = "If you let my daughter go now, that'll be the end of it. I will not look for you, I will not pursue you. But if you don't, I will look for you, I will find you, and I will kill you."

# Remove the characters which are not to be considered. In this case they include characters such as , .



# Print the modified movie quote
print(movie_quote)


# Convert your sentence to a list of words
list_of_words =


# Using a for loop, print the words whose length is greater than 3
words_we_want = []




# Take only unique words
unique_words =
print(f"The unique word list is {unique_words} ")



