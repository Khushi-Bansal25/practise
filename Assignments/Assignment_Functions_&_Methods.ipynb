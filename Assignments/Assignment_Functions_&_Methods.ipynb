{
  "nbformat": 4,
  "nbformat_minor": 0,
  "metadata": {
    "colab": {
      "provenance": []
    },
    "kernelspec": {
      "display_name": "Python 3",
      "language": "python",
      "name": "python3"
    },
    "language_info": {
      "codemirror_mode": {
        "name": "ipython",
        "version": 3
      },
      "file_extension": ".py",
      "mimetype": "text/x-python",
      "name": "python",
      "nbconvert_exporter": "python",
      "pygments_lexer": "ipython3",
      "version": "3.7.3"
    }
  },
  "cells": [
    {
      "cell_type": "markdown",
      "metadata": {
        "id": "Aq5jjKHb-zdZ"
      },
      "source": [
        "# <u> Problem 1</u>\n",
        "\n",
        "### Write a function which takes the excel column name as an input and returns the corresponding column number. A few examples are :\n",
        "\n",
        "* column name = <code>'J'</code> , column number = <code>10</code>\n",
        "* column name = <code>'AP'</code> , column number = <code>42</code>\n",
        "* column name = <code>'AAA'</code>, column number = <code>703</code>\n"
      ]
    },
    {
      "cell_type": "code",
      "metadata": {
        "id": "Un0QXOa3-zdb"
      },
      "source": [
        "import string as st\n",
        "def get_excel_column_number(arg):\n",
        "  '''\n",
        "  This functions returns the corresponding column number for an excel column name\n",
        "  '''\n",
        "  # Write your code here\n",
        "  al_list=list(st.ascii_uppercase)\n",
        "  num=[i for i in range(1,len(al_list)+1)]\n",
        "  dic={al_list[i]:num[i] for i in range(len(num))}\n",
        "  t=arg[::-1]\n",
        "  o=0\n",
        "  for i in range(len(arg)):\n",
        "    o+=dic[t[i]]*(26**i)\n",
        "  return o"
      ],
      "execution_count": null,
      "outputs": []
    },
    {
      "cell_type": "code",
      "metadata": {
        "id": "VFSrFUwP-zdd",
        "colab": {
          "base_uri": "https://localhost:8080/"
        },
        "outputId": "45cffd02-4aa7-4797-e21e-8ded295842ec"
      },
      "source": [
        "# Check\n",
        "get_excel_column_number('BD')"
      ],
      "execution_count": null,
      "outputs": [
        {
          "output_type": "execute_result",
          "data": {
            "text/plain": [
              "56"
            ]
          },
          "metadata": {},
          "execution_count": 4
        }
      ]
    },
    {
      "cell_type": "code",
      "metadata": {
        "id": "AZaQlyAc-zde",
        "colab": {
          "base_uri": "https://localhost:8080/"
        },
        "outputId": "296e8752-8b9f-4baa-db19-12b1ca491392"
      },
      "source": [
        "# Check\n",
        "get_excel_column_number('ALQ')"
      ],
      "execution_count": null,
      "outputs": [
        {
          "output_type": "execute_result",
          "data": {
            "text/plain": [
              "1005"
            ]
          },
          "metadata": {},
          "execution_count": 5
        }
      ]
    },
    {
      "cell_type": "markdown",
      "metadata": {
        "id": "zh_MA_BN-zd5"
      },
      "source": [
        "# <u> Problem 2</u>\n",
        "\n",
        "### We evaluate a standard machine learning classification model using various evaluation metrics. A classification model is a model which classifies a given observation or an event to a fixed set of categories. Suppose I train a machine learning model to classify images of cats and dogs. For each image, the machine classifies the image with either a <code>'Cat'</code> or a <code>'Dog'</code>. So in essence for each input image, there is a corresponding output by the model. This output can either be a <code>'Cat'</code> or a <code>'Dog'</code>.\n",
        "\n",
        "### To evaluate such a machine learning model which is trained to classify a given observation with at most two labels, a lot of candidate evaluation metrics are available. Accuracy is one of such evaluation metrics.\n",
        "\n",
        "### <u> Accuracy defintion </u> : Suppose you are given 20 input images of cats and dogs. You already know from these images that there are 11 cats and 9 dogs. You train a machine learning model to classify these images into cats and dogs. The machine predicts 9 cats correctly and 8 dogs correctly. The accuracy of the model is then defined as (correctly predicted cats and dogs)/(total cats and dogs). In this case it is (9+8)/(11+9) = 17/20 = 0.85 or 85%. It is a good practice to report the accuracy in percentages\n",
        "\n"
      ]
    },
    {
      "cell_type": "markdown",
      "metadata": {
        "id": "cp2SUazju_D7"
      },
      "source": [
        "### You are given two lists each of length 20 : one list contains the actual labels for the images of cats and dogs. The other list contains the predicted labels (by the machine) for the images of cats and dogs.\n",
        "\n",
        "### How to read the two lists ? For example for the first image, actual label is Cat and the predicted label is Cat. For the last image, actual label is Dog and the predicted label is Cat. The same index in the two lists corresponds to the same image"
      ]
    },
    {
      "cell_type": "code",
      "metadata": {
        "id": "BPsQbNPjvjAT"
      },
      "source": [
        "actual_labels = ['Cat','Dog','Cat','Cat','Dog','Cat','Dog','Cat','Cat','Cat','Dog','Dog','Cat','Cat','Cat','Dog','Dog','Dog','Cat','Dog']"
      ],
      "execution_count": null,
      "outputs": []
    },
    {
      "cell_type": "code",
      "metadata": {
        "id": "MDefeYf1v4pT"
      },
      "source": [
        "predicted_labels = ['Cat','Dog','Cat','Cat','Dog','Cat','Dog','Cat','Dog','Dog','Dog','Dog','Cat','Cat','Cat','Dog','Dog','Dog','Cat','Cat']"
      ],
      "execution_count": null,
      "outputs": []
    },
    {
      "cell_type": "markdown",
      "metadata": {
        "id": "hzLROuvWwZAL"
      },
      "source": [
        "### Write a function to calculate the accuracy. This functions takes two lists as inputs and returns the accuracy score in percentage"
      ]
    },
    {
      "cell_type": "code",
      "metadata": {
        "id": "HvDJXfL3-zd6"
      },
      "source": [
        "def calculate_accuracy(actual, predicted):\n",
        "  '''\n",
        "  This functions calculates the accuracy based on two input lists\n",
        "  '''\n",
        "  a=0\n",
        "  # Write your code here\n",
        "  for i in range(len(actual)):\n",
        "    if actual[i]==predicted[i]:\n",
        "      a+=1\n",
        "  return a/len(actual)\n"
      ],
      "execution_count": null,
      "outputs": []
    },
    {
      "cell_type": "code",
      "metadata": {
        "id": "At0m0hcc-zd_",
        "colab": {
          "base_uri": "https://localhost:8080/"
        },
        "outputId": "79ee840c-52bb-4753-8670-77b304258eb2"
      },
      "source": [
        "# Print the accuracy score for the given lists\n",
        "calculate_accuracy(actual_labels,predicted_labels)"
      ],
      "execution_count": null,
      "outputs": [
        {
          "output_type": "execute_result",
          "data": {
            "text/plain": [
              "0.85"
            ]
          },
          "metadata": {},
          "execution_count": 9
        }
      ]
    },
    {
      "cell_type": "markdown",
      "metadata": {
        "id": "YyYwXAlax36r"
      },
      "source": [
        "* ### <b><u>Precision</u></b> for cats is defined as the number of correctly predicted cats divided by the number of predicted cats. Report precision in percentages.\n",
        "\n",
        "* ### <b><u>Recall</u></b> for cats is defined as the number of correctly predicted cats divided by the actual number of cats. Report recall in percentages.\n",
        "\n",
        "### We can define the same two metrics for dogs as well.\n"
      ]
    },
    {
      "cell_type": "markdown",
      "metadata": {
        "id": "VwYIek-9yd4n"
      },
      "source": [
        "# <u> Problem 3 </u>\n",
        "\n",
        "### Write a Python function which returns the precision and recall for a given input label. Use the same two lists"
      ]
    },
    {
      "cell_type": "code",
      "metadata": {
        "id": "SojiZTMSyY4T",
        "colab": {
          "base_uri": "https://localhost:8080/"
        },
        "outputId": "182ac808-3f1b-4061-e02d-8b1ac7b97ea0"
      },
      "source": [
        "def precision_recall(actual_labels,predicted_labels,label = 'Dog'):\n",
        "  '''\n",
        "  This functions returns a tuple of precision and recall for a given input label\n",
        "  '''\n",
        "  # Your code here\n",
        "  correctly_predicted=0\n",
        "  predicted=0\n",
        "  actual=0\n",
        "  for i in range(len(actual_labels)):\n",
        "    if (actual_labels[i]==predicted_labels[i]) and actual_labels[i]=='Dog':\n",
        "      correctly_predicted+=1\n",
        "  for i in predicted_labels:\n",
        "    if i=='Dog':\n",
        "      predicted+=1\n",
        "  for i in actual_labels:\n",
        "    if i=='Dog':\n",
        "      actual+=1\n",
        "  o={'Prection':(correctly_predicted/predicted),'Recall':(correctly_predicted/actual)}\n",
        "  return o\n",
        "precision_recall(actual_labels,predicted_labels)"
      ],
      "execution_count": null,
      "outputs": [
        {
          "output_type": "execute_result",
          "data": {
            "text/plain": [
              "{'Prection': 0.8, 'Recall': 0.8888888888888888}"
            ]
          },
          "metadata": {},
          "execution_count": 27
        }
      ]
    },
    {
      "cell_type": "markdown",
      "metadata": {
        "id": "I-5eBWXa1Mla"
      },
      "source": [
        "# <u> Problem 4 </u>\n",
        "\n",
        "### Write a Python function which takes a sentence and a length value as inputs and returns the counts of those words from the sentence whose length is equal to the provided input length value.\n",
        "\n",
        "### Suppose if the input for the length value is 5, it will return the count of all those words which are of length 5"
      ]
    },
    {
      "cell_type": "code",
      "metadata": {
        "id": "9ueu9nJx1uUZ"
      },
      "source": [
        "marvel_quote = \"The world has changed and none of us can go back. All we can do is our best, and sometimes the best that we can do is to start over.\""
      ],
      "execution_count": null,
      "outputs": []
    },
    {
      "cell_type": "code",
      "metadata": {
        "id": "9OPAUOCT2VQW",
        "colab": {
          "base_uri": "https://localhost:8080/"
        },
        "outputId": "c64ece4c-40f0-461d-e938-b933db156343"
      },
      "source": [
        "# Your function below. Make sure to remove the special characters such as full stop and comma.\n",
        "def fixed_length_word_counts(sentence, length=3):\n",
        "  '''\n",
        "  This function returns the count of the words with the given input length\n",
        "  '''\n",
        "  # Your code below\n",
        "  pass\n",
        "\n",
        "l=marvel_quote.split(\" \")\n",
        "len(l)\n",
        "\n",
        "\n",
        "\n",
        "\n",
        "\n",
        "\n"
      ],
      "execution_count": null,
      "outputs": [
        {
          "output_type": "execute_result",
          "data": {
            "text/plain": [
              "30"
            ]
          },
          "metadata": {},
          "execution_count": 38
        }
      ]
    },
    {
      "cell_type": "code",
      "metadata": {
        "id": "Px7OQG0j2iab"
      },
      "source": [
        "# Check on the sample sentence\n"
      ],
      "execution_count": null,
      "outputs": []
    }
  ]
}