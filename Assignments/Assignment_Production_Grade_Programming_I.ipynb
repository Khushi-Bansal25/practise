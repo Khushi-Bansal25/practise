{
  "nbformat": 4,
  "nbformat_minor": 0,
  "metadata": {
    "kernelspec": {
      "display_name": "Python 3",
      "language": "python",
      "name": "python3"
    },
    "language_info": {
      "codemirror_mode": {
        "name": "ipython",
        "version": 3
      },
      "file_extension": ".py",
      "mimetype": "text/x-python",
      "name": "python",
      "nbconvert_exporter": "python",
      "pygments_lexer": "ipython3",
      "version": "3.7.4"
    },
    "colab": {
      "provenance": []
    }
  },
  "cells": [
    {
      "cell_type": "markdown",
      "metadata": {
        "id": "8WbUJEVzs8Bx"
      },
      "source": [
        "## <u>While doing this assignment only use those concepts which have been taught till now</u>"
      ]
    },
    {
      "cell_type": "markdown",
      "metadata": {
        "id": "77zLnpaNvNSp"
      },
      "source": [
        "# <u> Problem 1</u>\n",
        "\n",
        "### Create a class <code>Cylinder</code> which takes two attributes <code>radius</code> and <code>height</code>.\n",
        "\n",
        "### Create the following methods in this class:\n",
        "\n",
        "* ### method <code>volume()</code> which calculates the volume of the cyinder which is defined as $V  = \\pi r^2 h$\n",
        "\n",
        "* ### method <code>surface_area()</code> which calculates the area of the cyinder which is defined as $S  = 2\\pi r h$. Assume this is an open cylinder\n"
      ]
    },
    {
      "cell_type": "code",
      "metadata": {
        "id": "-cWkCZ5OzX0G"
      },
      "source": [
        "# Write your code below. Take pi as 3.14\n",
        "class Cylinder:\n",
        "  pi=3.14\n",
        "  def __init__(self,radius,height):\n",
        "    self.radius=radius\n",
        "    self.height=height\n",
        "  def volume(self):\n",
        "    return self.pi*(self.radius**2)*self.height\n",
        "  def surface_area(self):\n",
        "    return 2*self.pi*self.radius*self.height"
      ],
      "execution_count": null,
      "outputs": []
    },
    {
      "cell_type": "code",
      "metadata": {
        "id": "tgS3mhN-18b_",
        "colab": {
          "base_uri": "https://localhost:8080/"
        },
        "outputId": "c966a9b0-17d0-4a75-b74d-af71c93b4e5c"
      },
      "source": [
        "# Check for sample inputs\n",
        "\n",
        "a= Cylinder(14,12)\n",
        "b= Cylinder(10,10)\n",
        "\n",
        "print(f\"The volume of object a is {a.volume()} and surface area is {a.surface_area()}\")\n",
        "print(f\"The volume of object b is {b.volume()} and surface area is {b.surface_area()}\")\n",
        "\n"
      ],
      "execution_count": null,
      "outputs": [
        {
          "output_type": "stream",
          "name": "stdout",
          "text": [
            "The volume of object a is 7385.280000000001 and surface area is 1055.04\n",
            "The volume of object b is 3140.0 and surface area is 628.0\n"
          ]
        }
      ]
    },
    {
      "cell_type": "markdown",
      "metadata": {
        "id": "KjPWYK0Rs8By"
      },
      "source": [
        "## <u>Problem 2</u>\n",
        "\n",
        "### You started your own money wallet where your customers can create their accounts and they can either deposit or withdraw money from this wallet.\n",
        "\n",
        "### Write a Python class <code>BankAccount</code> which takes the balance as an attribute. You can initialize the balance with 0 because any new account will have 0 rupees in their wallet. Next write two methods for your class :\n",
        "\n",
        "* #### <code>withdraw()</code> method which takes the amount to be withdrawn as an argument and returns the balance after the withdrawal\n",
        "\n",
        "* #### <code>deposit()</code> method which takes the amount to be deposited as an argument and returns the balance after the deposit.\n",
        "\n",
        "### Keep in mind that if the balance to be withdrawn exceeds the current balance, it should display a message that \"Not enough balance in your account\"\n"
      ]
    },
    {
      "cell_type": "code",
      "metadata": {
        "id": "RxVZTrenzfHC"
      },
      "source": [
        "# Write your BankAccount class below\n",
        "\n",
        "class BankAccount:\n",
        "  def __init__(self):\n",
        "    self.bal=0\n",
        "  def withdraw(self,amt):\n",
        "    if self.bal>amt:\n",
        "      self.bal-=amt\n",
        "      return f\"withdraw success of {amt}:\\n remaining bal:{self.bal}\"\n",
        "    else:\n",
        "      return \"Insufficient funds\"\n",
        "  def deposit(self,amt):\n",
        "    self.bal+=amt\n",
        "    return f\"deposit success of {amt}\\n rem bal:{self.bal}\"\n",
        "\n",
        "\n",
        "\n",
        "\n"
      ],
      "execution_count": null,
      "outputs": []
    },
    {
      "cell_type": "code",
      "metadata": {
        "id": "N1Yhpkiws8B3"
      },
      "source": [
        "# Create two instances of this class for two customers\n",
        "c1=BankAccount()\n",
        "c2=BankAccount()"
      ],
      "execution_count": null,
      "outputs": []
    },
    {
      "cell_type": "markdown",
      "metadata": {
        "id": "mSTxPcO3fWeX"
      },
      "source": [
        "### Next add some amount and withdraw some another amount for both the customers."
      ]
    },
    {
      "cell_type": "code",
      "metadata": {
        "id": "KpMdlB5Fs8B8",
        "colab": {
          "base_uri": "https://localhost:8080/"
        },
        "outputId": "c5f224c4-4b98-4e7f-f8d6-05b21e5d1978"
      },
      "source": [
        "# Deposit some amount and withdrawing some amount from the two accounts and check if your method works fine\n",
        "\n",
        "print(\"for c1 \"+c1.deposit(70))\n",
        "print(\"for c1 \"+c1.deposit(20))\n",
        "print(\"for c1 \"+c1.withdraw(21))\n",
        "\n",
        "print(\"for c2 \"+c2.deposit(6))\n",
        "print(\"for c2 \"+c2.deposit(9))\n",
        "print(\"for c2 \"+c2.withdraw(5))\n",
        "\n",
        "\n",
        "\n"
      ],
      "execution_count": null,
      "outputs": [
        {
          "output_type": "stream",
          "name": "stdout",
          "text": [
            "for c1 deposit success of 70\n",
            " rem bal:70\n",
            "for c1 deposit success of 20\n",
            " rem bal:90\n",
            "for c1 withdraw success of 21:\n",
            " remaining bal:69\n",
            "for c2 deposit success of 6\n",
            " rem bal:6\n",
            "for c2 deposit success of 9\n",
            " rem bal:15\n",
            "for c2 withdraw success of 5:\n",
            " remaining bal:10\n"
          ]
        }
      ]
    },
    {
      "cell_type": "markdown",
      "metadata": {
        "id": "5qd8g8UUs8CM"
      },
      "source": [
        "## <u>Problem 3 </u>\n",
        "\n",
        "### Create a class <code>Time </code> which takes two inputs hours and minutes to instantiate.\n",
        "*  #### Construct a method <code>DisplayTime()</code> which displays the time in AM/PM formats. For example if the input is 14 hours and 45 mins, then this method will print \"The time is 2:45 PM\". If the inputted hours exceeds 23 then print the message \"The input hours should be less than 24\" and if the inputted minutes exceeds 59 then print the message \"The input minutes should be less than 60.\" Also if the input is 12 hours 30 minutes, then the displayed time would be 12:30 PM\n",
        "* #### Construct a method <code>DisplayRatio()</code> which should display the ratio of minutes to hours. For example, (8 hours and  16 mins) should display 2. Use <code>try</code>, <code>except</code> block to account for ZeroDivisionError."
      ]
    },
    {
      "cell_type": "code",
      "metadata": {
        "id": "FBJy9Sq_s8CN"
      },
      "source": [
        "class Time:\n",
        "  def __init__(self,hrs,min):\n",
        "    self.hrs=hrs\n",
        "    self.min=min\n",
        "  def DisplayTime(self):\n",
        "    am_list=[i for i in range(0,12)]\n",
        "    pm_list=[i for i in range(13,24)]\n",
        "\n",
        "    #validation\n",
        "    if self.hrs>23:\n",
        "      print(\"The input hours should be less than 24\")\n",
        "    elif self.min>59:\n",
        "      print(\"The input minutes should be less than 60\")\n",
        "    else:\n",
        "      #Main processing\n",
        "      if self.hrs in am_list:\n",
        "        print(f\"The time is {self.hrs}:{self.min} AM\")\n",
        "      elif self.hrs==12:\n",
        "        print(f\"The time is {self.hrs}:{self.min} PM\")\n",
        "      else:\n",
        "        print(f\"The time is {self.hrs-12}:{self.min} PM\")\n"
      ],
      "execution_count": null,
      "outputs": []
    },
    {
      "cell_type": "code",
      "metadata": {
        "id": "zywXa51d6Eev",
        "colab": {
          "base_uri": "https://localhost:8080/"
        },
        "outputId": "50ffb426-35b2-4a7d-d0e2-91164b526025"
      },
      "source": [
        "# Check for few sample inputs of hours and mins\n",
        "hour_min_list = [(23,45), (34,50), (12,34), (14,67),(19,20), (2,15), (0, 10)]\n",
        "\n",
        "# Using a for loop display the corresponding 12 hour time format for the above hour_min_list\n",
        "for i in range(len(hour_min_list)):\n",
        "  T=Time(hour_min_list[i][0],hour_min_list[i][1])\n",
        "  T.DisplayTime()\n",
        "\n",
        "\n",
        "\n",
        "\n",
        "# Also display the corresponding ratios for the above list\n",
        "\n",
        "\n"
      ],
      "execution_count": null,
      "outputs": [
        {
          "output_type": "stream",
          "name": "stdout",
          "text": [
            "The time is 11:45 PM\n",
            "The input hours should be less than 24\n",
            "The time is 12:34 PM\n",
            "The input minutes should be less than 60\n",
            "The time is 7:20 PM\n",
            "The time is 2:15 AM\n",
            "The time is 0:10 AM\n"
          ]
        }
      ]
    },
    {
      "cell_type": "code",
      "metadata": {
        "id": "mgcu1_SAjAqF"
      },
      "source": [],
      "execution_count": null,
      "outputs": []
    }
  ]
}