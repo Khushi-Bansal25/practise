{
  "nbformat": 4,
  "nbformat_minor": 0,
  "metadata": {
    "colab": {
      "provenance": []
    },
    "kernelspec": {
      "name": "python3",
      "display_name": "Python 3"
    }
  },
  "cells": [
    {
      "cell_type": "markdown",
      "metadata": {
        "id": "2jnw9mA7ZmdB"
      },
      "source": [
        "## <u>While doing this assignment only use those concepts which have been taught till now</u>"
      ]
    },
    {
      "cell_type": "markdown",
      "metadata": {
        "id": "OUYGTTD6Q2i_"
      },
      "source": [
        "# Problem 1\n",
        "\n",
        "Write a Python function which takes a string as an input and returns the reversed string as an output.\n",
        "\n",
        "\n",
        "*   Do not use any inbuilt funtion or method. Use `for` loops only.\n",
        "*   Also, do the time and space complexity analysis.\n",
        "\n"
      ]
    },
    {
      "cell_type": "code",
      "metadata": {
        "id": "jef509dzQxBU",
        "colab": {
          "base_uri": "https://localhost:8080/",
          "height": 35
        },
        "outputId": "c8f52243-f7b0-4564-d91a-e7e6e0f695f4"
      },
      "source": [
        "# Write your code here\n",
        "\n",
        "def rev(n):\n",
        "  s=\"\"\n",
        "  for i in range(len(n)-1,-1,-1):\n",
        "    s+=n[i]\n",
        "  return s\n",
        "\n",
        "rev(\"Hello!\")\n",
        "# Time Complexity : O(n)\n",
        "# Space Complexity : ?\n",
        "# Auxiliary Space : ?"
      ],
      "execution_count": null,
      "outputs": [
        {
          "output_type": "execute_result",
          "data": {
            "text/plain": [
              "'!olleH'"
            ],
            "application/vnd.google.colaboratory.intrinsic+json": {
              "type": "string"
            }
          },
          "metadata": {},
          "execution_count": 1
        }
      ]
    },
    {
      "cell_type": "markdown",
      "metadata": {
        "id": "wfeWSBcTgO6y"
      },
      "source": [
        "# Problem 2\n",
        "\n",
        "Write a Python function which takes a list of `n` lists as an input. Each of the `n` lists have `m` non-zero positive integers each. The function should return a list which contains `n` integers corresponding to the square of the maximum of each of the `n` lists in the list of lists.\n",
        "\n",
        "Example:\n",
        "Inputs\n",
        "```\n",
        "n = 2\n",
        "m = 3\n",
        "list_of_lists = [[1, 2, 3], [5, 7, 6]]\n",
        "```\n",
        "Output:\n",
        "```\n",
        "[9, 49]\n",
        "```\n",
        "\n",
        "*   Do not use any inbuilt funtion or method. Use `for` loops only.\n",
        "*   Also, do the time and space complexity analysis.\n"
      ]
    },
    {
      "cell_type": "code",
      "metadata": {
        "id": "x2rY4yMChDPM",
        "colab": {
          "base_uri": "https://localhost:8080/"
        },
        "outputId": "c088667e-ade5-4c1c-a29f-eb070730fbe2"
      },
      "source": [
        "# Write your code here\n",
        "\n",
        "sam = [[1, 2, 3], [5, 7, 6]]\n",
        "def fun(sam):\n",
        "  o=[]\n",
        "  for i in range(len(sam)):\n",
        "    max=0\n",
        "    for j in range(len(sam[i])):\n",
        "      if sam[i][j]>max:\n",
        "        max=sam[i][j]\n",
        "    o.append(max**2)\n",
        "  return o\n",
        "\n",
        "fun(sam)\n",
        "\n",
        "# Time Complexity : O(m*n)\n",
        "# Space Complexity : ?\n",
        "# Auxiliary Space : ?"
      ],
      "execution_count": null,
      "outputs": [
        {
          "output_type": "execute_result",
          "data": {
            "text/plain": [
              "[9, 49]"
            ]
          },
          "metadata": {},
          "execution_count": 42
        }
      ]
    },
    {
      "cell_type": "code",
      "source": [
        "fun([[1, 2, 3],[1, 2, 13], [4,15, 7, 6], [5, 7, 6]])"
      ],
      "metadata": {
        "colab": {
          "base_uri": "https://localhost:8080/"
        },
        "id": "VYQFp-ygDa9O",
        "outputId": "418805e9-7887-44e9-a6d8-2c4639bd8765"
      },
      "execution_count": null,
      "outputs": [
        {
          "output_type": "execute_result",
          "data": {
            "text/plain": [
              "[9, 169, 225, 49]"
            ]
          },
          "metadata": {},
          "execution_count": 43
        }
      ]
    },
    {
      "cell_type": "code",
      "source": [],
      "metadata": {
        "id": "6p9XGICqFcbO"
      },
      "execution_count": null,
      "outputs": []
    }
  ]
}