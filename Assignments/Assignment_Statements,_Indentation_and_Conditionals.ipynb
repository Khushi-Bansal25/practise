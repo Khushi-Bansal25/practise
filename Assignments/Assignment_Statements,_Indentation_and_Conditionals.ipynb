{
 "cells": [
  {
   "cell_type": "markdown",
   "metadata": {
    "id": "8WbUJEVzs8Bx"
   },
   "source": [
    "## <u>While doing this assignment only use those concepts which have been taught till now</u>"
   ]
  },
  {
   "cell_type": "markdown",
   "metadata": {
    "id": "KjPWYK0Rs8By"
   },
   "source": [
    "## <u>Problem 1</u>\n",
    "\n",
    "### As an analyst, you had to present the quarterly performance results of your client. The data which you were provided was on daily basis. To complete this task, you needed to extract the quarter from a given date. For example:\n",
    "\n",
    "* if the date lies between 1st Jan, 2020 - 31st March, 2020, you need to extract the corresponding quarter as '2020-Q1'\n",
    "\n",
    "* if the date lies between 1st April, 2020 - 30th June, 2020, the extracted quarter will be '2020-Q2'\n",
    "\n",
    "* if the date lies between 1st July, 2020 - 30th September, 2020, the extracted quarter will be '2020-Q3'\n",
    "\n",
    "* if the date lies between 1st October, 2020 - 31st Decemeber, 2020 then the extracted quarter will be '2020-Q4'\n"
   ]
  },
  {
   "cell_type": "code",
   "execution_count": 32,
   "metadata": {
    "id": "RxVZTrenzfHC"
   },
   "outputs": [
    {
     "name": "stdin",
     "output_type": "stream",
     "text": [
      " 2020-07-25\n"
     ]
    }
   ],
   "source": [
    "# Take a proper date input from the user in the format YYYY-MM-DD. Consider this date as a string\n",
    "user_date = input()"
   ]
  },
  {
   "cell_type": "code",
   "execution_count": 33,
   "metadata": {
    "id": "N1Yhpkiws8B3"
   },
   "outputs": [],
   "source": [
    "# Write your code using if else statements to extract the quarter\n",
    "date_year = int(user_date.split(\"-\")[0])\n",
    "date_month = int(user_date.split(\"-\")[1])\n",
    "quarter=str()\n",
    "# Store the quarter value in a string variable named quarter\n",
    "if date_year==2020:\n",
    "    if date_month<=3:\n",
    "        quarter=\"2020-Q1\"\n",
    "    elif date_month<=6:\n",
    "        quarter=\"2020-Q2\"\n",
    "    elif date_month<=9:\n",
    "        quarter=\"2020-Q3\"\n",
    "    elif date_month<=12:\n",
    "        quarter=\"2020-Q4\"\n",
    "    else:\n",
    "        print(\"invalid\")\n",
    "else:\n",
    "    print(\"invalid date: allowed dates for year 2020\")"
   ]
  },
  {
   "cell_type": "code",
   "execution_count": 34,
   "metadata": {
    "id": "KpMdlB5Fs8B8"
   },
   "outputs": [
    {
     "name": "stdout",
     "output_type": "stream",
     "text": [
      "2020-Q3\n"
     ]
    }
   ],
   "source": [
    "# Print the extracted quarter\n",
    "print(quarter)"
   ]
  },
  {
   "cell_type": "markdown",
   "metadata": {
    "id": "5qd8g8UUs8CM"
   },
   "source": [
    "## <u>Problem 2 </u>\n",
    "\n",
    "* You went out in your local neighbourhood to collect the data of people residing in the locale. You surveyed 5 people and collected some data and stored that in a dictionary. You recorded their names, their age, their sex, their heights(in cms) and their weights(in kgs)"
   ]
  },
  {
   "cell_type": "code",
   "execution_count": 48,
   "metadata": {
    "id": "FBJy9Sq_s8CN"
   },
   "outputs": [],
   "source": [
    "# Surveyed data\n",
    "\n",
    "locality_data = {'Name' : ['Abhinav','Sohail','Dheeraj','Rashmi','Vaishali'],\n",
    "                  'Age' : [42,29,35,28,32],\n",
    "                  'Sex' : ['Male', 'Male','Male','Female','Female'] ,\n",
    "                  'Height' : [172,175,170,168,170,180],\n",
    "                  'Weight' : [70,82,60,55,64]\n",
    "                 }"
   ]
  },
  {
   "cell_type": "markdown",
   "metadata": {
    "id": "2_rBSgqz5Ums"
   },
   "source": [
    "* Find the mean and median heights and weights of the people in your locality"
   ]
  },
  {
   "cell_type": "code",
   "execution_count": 55,
   "metadata": {
    "id": "zywXa51d6Eev"
   },
   "outputs": [
    {
     "name": "stdout",
     "output_type": "stream",
     "text": [
      "The mean height is  172.5\n",
      "172.0\n",
      "The mean weight is  66.2\n",
      "64\n"
     ]
    }
   ],
   "source": [
    "# Calculate the mean height and print it\n",
    "print(\"The mean height is \",sum(locality_data[\"Height\"])/len(locality_data[\"Height\"]))\n",
    "\n",
    "\n",
    "# Calculate the median height and print it\n",
    "h_list=sorted(locality_data[\"Height\"])\n",
    "if len(h_list)%2==1:\n",
    "    print(h_list[len(h_list)//2])\n",
    "    \n",
    "else:\n",
    "    print((h_list[len(h_list)//2]+h_list[len(h_list)//2])/2)\n",
    "# Calculate the mean weight and print it\n",
    "print(\"The mean weight is \",sum(locality_data[\"Weight\"])/len(locality_data[\"Weight\"]))\n",
    "\n",
    "\n",
    "# Calculate the median weight and print it\n",
    "h_list=sorted(locality_data[\"Weight\"])\n",
    "if len(h_list)%2==1:\n",
    "    print(h_list[len(h_list)//2])\n",
    "    \n",
    "else:\n",
    "    print((h_list[len(h_list)//2]+h_list[len(h_list)//2])/2)"
   ]
  },
  {
   "cell_type": "markdown",
   "metadata": {
    "id": "yLb5awgPQeYA"
   },
   "source": [
    "* Write a Python code to print the first three elements from the list of age values corresponding to the key 'Age'"
   ]
  },
  {
   "cell_type": "code",
   "execution_count": 59,
   "metadata": {
    "id": "wef2fVgx6Gji"
   },
   "outputs": [
    {
     "name": "stdout",
     "output_type": "stream",
     "text": [
      "[42, 29, 35]\n"
     ]
    }
   ],
   "source": [
    "# Python code to print the first three elements for the key 'Age'\n",
    "\n",
    "ages = locality_data[\"Age\"][:3]\n",
    "print(ages)"
   ]
  },
  {
   "cell_type": "markdown",
   "metadata": {
    "id": "NGrZaqulRIM1"
   },
   "source": [
    "* Write a Python code to print the last two elements of the name list if the list of values corresponding to the key 'Name' contains the element 'Rashmi' else print 'Name not found'"
   ]
  },
  {
   "cell_type": "code",
   "execution_count": 61,
   "metadata": {
    "id": "TBRZzwAcRTNL"
   },
   "outputs": [
    {
     "name": "stdout",
     "output_type": "stream",
     "text": [
      "Present\n"
     ]
    }
   ],
   "source": [
    "# Your code below\n",
    "if 'Rashmi' in locality_data[\"Name\"]:\n",
    "    print(\"Present\")\n",
    "else:\n",
    "    print(\"not found\")"
   ]
  },
  {
   "cell_type": "markdown",
   "metadata": {
    "id": "ejRCi-vTs8CU"
   },
   "source": [
    "## <u> Problem 3 </u>\n",
    "\n",
    "A student will not be allowed to sit in exam if his/her attendence is less than 75%.\n",
    "\n",
    "Take following input from user\n",
    "* Number of classes held\n",
    "* Number of classes attended."
   ]
  },
  {
   "cell_type": "code",
   "execution_count": 64,
   "metadata": {
    "id": "C5olNuDGs8CU"
   },
   "outputs": [
    {
     "name": "stdout",
     "output_type": "stream",
     "text": [
      "Number of classes held\n"
     ]
    },
    {
     "name": "stdin",
     "output_type": "stream",
     "text": [
      " 100\n"
     ]
    },
    {
     "name": "stdout",
     "output_type": "stream",
     "text": [
      "Number of classes attended\n"
     ]
    },
    {
     "name": "stdin",
     "output_type": "stream",
     "text": [
      " 70\n"
     ]
    }
   ],
   "source": [
    "# Enter your input\n",
    "\n",
    "print(\"Number of classes held\")\n",
    "classes_held = int(input())\n",
    "\n",
    "print(\"Number of classes attended\")\n",
    "classes_attended = int(input())"
   ]
  },
  {
   "cell_type": "code",
   "execution_count": 65,
   "metadata": {
    "id": "i553Hqamm2jR"
   },
   "outputs": [
    {
     "name": "stdout",
     "output_type": "stream",
     "text": [
      "The attendance is 70.0\n"
     ]
    }
   ],
   "source": [
    "# Calculate the attendance percentage\n",
    "attendance = classes_attended*100/classes_held\n",
    "\n",
    "print(f'The attendance is {attendance}')"
   ]
  },
  {
   "cell_type": "markdown",
   "metadata": {
    "id": "QYDpXSANnKxV"
   },
   "source": [
    "And print the following statements based on the condition above\n",
    "\n",
    "* percentage of class attended\n",
    "* Is student is allowed to sit in exam or not."
   ]
  },
  {
   "cell_type": "code",
   "execution_count": 66,
   "metadata": {
    "id": "SoQ3P0yym2ts"
   },
   "outputs": [
    {
     "name": "stdout",
     "output_type": "stream",
     "text": [
      "ineligble\n"
     ]
    }
   ],
   "source": [
    "# Your code here\n",
    "if attendance>75:\n",
    "    print(\"eligible\")\n",
    "else:\n",
    "    print(\"ineligble\")"
   ]
  },
  {
   "cell_type": "markdown",
   "metadata": {
    "id": "P1rOYC8Is8Cf"
   },
   "source": [
    "## <u>Problem 4</u>\n",
    "\n",
    "### A school has following rules for grading system:\n",
    "* Below 25 - F\n",
    "* 25 to 45 - E\n",
    "* 45 to 50 - D\n",
    "* 50 to 60 - C\n",
    "* 60 to 80 - B\n",
    "* Above 80 - A\n",
    "\n",
    "Keep the left number inclusive and the right number exclusive, something like [25,45) for grade E where the set is closed at 25 and open at 45.\n",
    "\n",
    "Write a Python code which takes marks as inputs from the user and print the corresponding grade."
   ]
  },
  {
   "cell_type": "code",
   "execution_count": 70,
   "metadata": {
    "id": "ySeGyCtCs8Cg"
   },
   "outputs": [
    {
     "name": "stdout",
     "output_type": "stream",
     "text": [
      "Enter your marks\n"
     ]
    },
    {
     "name": "stdin",
     "output_type": "stream",
     "text": [
      " 50\n"
     ]
    }
   ],
   "source": [
    "# Your input here\n",
    "print(\"Enter your marks\")\n",
    "marks = int(input())"
   ]
  },
  {
   "cell_type": "code",
   "execution_count": 71,
   "metadata": {
    "id": "MI7mOHaqs8Cj"
   },
   "outputs": [
    {
     "name": "stdout",
     "output_type": "stream",
     "text": [
      "D\n"
     ]
    }
   ],
   "source": [
    "# Your code here to print the corresponding grade\n",
    "g=str()\n",
    "if marks>80:\n",
    "    g='A'\n",
    "elif marks>60:\n",
    "    g='B'\n",
    "elif marks>50:\n",
    "    g='C'\n",
    "elif marks>45:\n",
    "    g='D'\n",
    "elif marks>25:\n",
    "    g='E'\n",
    "else:\n",
    "    g='F'\n",
    "print(g)"
   ]
  },
  {
   "cell_type": "code",
   "execution_count": null,
   "metadata": {},
   "outputs": [],
   "source": []
  }
 ],
 "metadata": {
  "colab": {
   "provenance": []
  },
  "kernelspec": {
   "display_name": "Python 3 (ipykernel)",
   "language": "python",
   "name": "python3"
  },
  "language_info": {
   "codemirror_mode": {
    "name": "ipython",
    "version": 3
   },
   "file_extension": ".py",
   "mimetype": "text/x-python",
   "name": "python",
   "nbconvert_exporter": "python",
   "pygments_lexer": "ipython3",
   "version": "3.12.5"
  }
 },
 "nbformat": 4,
 "nbformat_minor": 4
}
