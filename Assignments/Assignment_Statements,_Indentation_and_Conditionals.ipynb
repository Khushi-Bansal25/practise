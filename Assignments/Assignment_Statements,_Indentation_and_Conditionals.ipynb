{
 "cells": [
  {
   "cell_type": "markdown",
   "metadata": {
    "id": "8WbUJEVzs8Bx"
   },
   "source": [
    "## <u>While doing this assignment only use those concepts which have been taught till now</u>"
   ]
  },
  {
   "cell_type": "markdown",
   "metadata": {
    "id": "KjPWYK0Rs8By"
   },
   "source": [
    "## <u>Problem 1</u>\n",
    "\n",
    "### As an analyst, you had to present the quarterly performance results of your client. The data which you were provided was on daily basis. To complete this task, you needed to extract the quarter from a given date. For example:\n",
    "\n",
    "* if the date lies between 1st Jan, 2020 - 31st March, 2020, you need to extract the corresponding quarter as '2020-Q1'\n",
    "\n",
    "* if the date lies between 1st April, 2020 - 30th June, 2020, the extracted quarter will be '2020-Q2'\n",
    "\n",
    "* if the date lies between 1st July, 2020 - 30th September, 2020, the extracted quarter will be '2020-Q3'\n",
    "\n",
    "* if the date lies between 1st October, 2020 - 31st Decemeber, 2020 then the extracted quarter will be '2020-Q4'\n"
   ]
  },
  {
   "cell_type": "code",
   "execution_count": 16,
   "metadata": {
    "id": "RxVZTrenzfHC"
   },
   "outputs": [
    {
     "name": "stdin",
     "output_type": "stream",
     "text": [
      "Enter the date (YYYY-MM-DD):  2020-12-12\n"
     ]
    },
    {
     "name": "stdout",
     "output_type": "stream",
     "text": [
      "2020-Q4\n"
     ]
    }
   ],
   "source": [
    "# Take a proper date input from the user in the format YYYY-MM-DD. Consider this date as a string\n",
    "user_date = input(\"Enter the date (YYYY-MM-DD): \")\n",
    "# Write your code using if else statements to extract the quarter\n",
    "date_year = int(user_date.split(\"-\")[0])\n",
    "date_month = int(user_date.split(\"-\")[1])\n",
    "if 1 <= date_month <= 3:\n",
    "    quarter = f\"{date_year}-Q1\"\n",
    "elif 4 <= date_month <= 6:\n",
    "    quarter = f\"{date_year}-Q2\"\n",
    "elif 7 <= date_month <= 9:\n",
    "    quarter = f\"{date_year}-Q3\"\n",
    "elif 10 <= date_month <= 12:\n",
    "    quarter = f\"{date_year}-Q4\"\n",
    "else:\n",
    "    print(\"Invalid month. Please enter a valid date.\")\n",
    "# Store the quarter value in a string variable named quarter\n",
    "print(quarter)\n"
   ]
  },
  {
   "cell_type": "code",
   "execution_count": null,
   "metadata": {
    "id": "N1Yhpkiws8B3"
   },
   "outputs": [],
   "source": [
    "\n"
   ]
  },
  {
   "cell_type": "code",
   "execution_count": null,
   "metadata": {
    "id": "KpMdlB5Fs8B8"
   },
   "outputs": [],
   "source": [
    "# Print the extracted quarter\n"
   ]
  },
  {
   "cell_type": "markdown",
   "metadata": {
    "id": "5qd8g8UUs8CM"
   },
   "source": [
    "## <u>Problem 2 </u>\n",
    "\n",
    "* You went out in your local neighbourhood to collect the data of people residing in the locale. You surveyed 5 people and collected some data and stored that in a dictionary. You recorded their names, their age, their sex, their heights(in cms) and their weights(in kgs)"
   ]
  },
  {
   "cell_type": "code",
   "execution_count": 37,
   "metadata": {
    "id": "FBJy9Sq_s8CN"
   },
   "outputs": [],
   "source": [
    "# Surveyed data\n",
    "\n",
    "locality_data = {'Name' : ['Abhinav','Sohail','Dheeraj','Rashmi','Vaishali'],\n",
    "                  'Age' : [42,29,35,28,32],\n",
    "                  'Sex' : ['Male', 'Male','Male','Female','Female'] ,\n",
    "                  'Height' : [172,175,170,168,170],\n",
    "                  'Weight' : [70,82,60,55,64]\n",
    "                 }"
   ]
  },
  {
   "cell_type": "markdown",
   "metadata": {
    "id": "2_rBSgqz5Ums"
   },
   "source": [
    "* Find the mean and median heights and weights of the people in your locality"
   ]
  },
  {
   "cell_type": "code",
   "execution_count": 49,
   "metadata": {
    "id": "zywXa51d6Eev"
   },
   "outputs": [
    {
     "name": "stdout",
     "output_type": "stream",
     "text": [
      "171.0\n",
      "[168, 170, 170, 172, 175]\n",
      "170\n",
      "66.2\n",
      "[55, 60, 64, 70, 82]\n",
      "64\n"
     ]
    }
   ],
   "source": [
    "# Calculate the mean height and print it\n",
    "height = locality_data['Height']\n",
    "mean_height = sum(height)/len(height)\n",
    "print(mean_height)\n",
    "\n",
    "\n",
    "# Calculate the median height and print it\n",
    "height.sort()\n",
    "print(height)\n",
    "median = len(height)//2\n",
    "print(height[median])\n",
    "\n",
    "# Calculate the mean weight and print it\n",
    "weight = locality_data['Weight']\n",
    "mean_weight = sum(weight)/len(weight)\n",
    "print(mean_weight)\n",
    "\n",
    "\n",
    "# Calculate the median weight and print it\n",
    "weight.sort()\n",
    "print(weight)\n",
    "median = len(weight)//2\n",
    "print(weight[median])"
   ]
  },
  {
   "cell_type": "markdown",
   "metadata": {
    "id": "yLb5awgPQeYA"
   },
   "source": [
    "* Write a Python code to print the first three elements from the list of age values corresponding to the key 'Age'"
   ]
  },
  {
   "cell_type": "code",
   "execution_count": 51,
   "metadata": {
    "id": "wef2fVgx6Gji"
   },
   "outputs": [
    {
     "name": "stdout",
     "output_type": "stream",
     "text": [
      "[42, 29, 35]\n"
     ]
    }
   ],
   "source": [
    "# Python code to print the first three elements for the key 'Age'\n",
    "\n",
    "ages = locality_data['Age']\n",
    "print(ages[0:3])\n",
    "\n"
   ]
  },
  {
   "cell_type": "markdown",
   "metadata": {
    "id": "NGrZaqulRIM1"
   },
   "source": [
    "* Write a Python code to print the last two elements of the name list if the list of values corresponding to the key 'Name' contains the element 'Rashmi' else print 'Name not found'"
   ]
  },
  {
   "cell_type": "code",
   "execution_count": 53,
   "metadata": {
    "id": "TBRZzwAcRTNL"
   },
   "outputs": [
    {
     "name": "stdout",
     "output_type": "stream",
     "text": [
      "['Rashmi', 'Vaishali']\n"
     ]
    }
   ],
   "source": [
    "# Your code below\n",
    "\n",
    "\n",
    "names = locality_data['Name']\n",
    "\n",
    "if 'Rashmi' in names:\n",
    "   \n",
    "    print(names[-2:])  \n",
    "else:\n",
    "    print('Name not found')\n",
    "\n"
   ]
  },
  {
   "cell_type": "markdown",
   "metadata": {
    "id": "ejRCi-vTs8CU"
   },
   "source": [
    "## <u> Problem 3 </u>\n",
    "\n",
    "A student will not be allowed to sit in exam if his/her attendence is less than 75%.\n",
    "\n",
    "Take following input from user\n",
    "* Number of classes held\n",
    "* Number of classes attended."
   ]
  },
  {
   "cell_type": "code",
   "execution_count": 61,
   "metadata": {
    "id": "C5olNuDGs8CU"
   },
   "outputs": [
    {
     "name": "stdout",
     "output_type": "stream",
     "text": [
      "Number of classes held\n"
     ]
    },
    {
     "name": "stdin",
     "output_type": "stream",
     "text": [
      " 18\n"
     ]
    },
    {
     "name": "stdout",
     "output_type": "stream",
     "text": [
      "Number of classes attended\n"
     ]
    },
    {
     "name": "stdin",
     "output_type": "stream",
     "text": [
      " 15\n"
     ]
    }
   ],
   "source": [
    "# Enter your input\n",
    "\n",
    "print(\"Number of classes held\")\n",
    "classes_held = int(input())\n",
    "\n",
    "print(\"Number of classes attended\")\n",
    "classes_attended = int(input())"
   ]
  },
  {
   "cell_type": "code",
   "execution_count": 63,
   "metadata": {
    "id": "i553Hqamm2jR"
   },
   "outputs": [
    {
     "name": "stdout",
     "output_type": "stream",
     "text": [
      "The attendance is 83.33333333333333\n"
     ]
    }
   ],
   "source": [
    "# Calculate the attendance percentage\n",
    "attendance = classes_attended*100/classes_held\n",
    "\n",
    "print(f'The attendance is {attendance}')"
   ]
  },
  {
   "cell_type": "markdown",
   "metadata": {
    "id": "QYDpXSANnKxV"
   },
   "source": [
    "And print the following statements based on the condition above\n",
    "\n",
    "* percentage of class attended\n",
    "* Is student is allowed to sit in exam or not."
   ]
  },
  {
   "cell_type": "code",
   "execution_count": 65,
   "metadata": {
    "id": "SoQ3P0yym2ts"
   },
   "outputs": [
    {
     "name": "stdout",
     "output_type": "stream",
     "text": [
      "allowed\n"
     ]
    }
   ],
   "source": [
    "# Your code here\n",
    "if attendance < 75:\n",
    "    print(\"not allowed\")\n",
    "else:\n",
    "    print(\"allowed\")"
   ]
  },
  {
   "cell_type": "markdown",
   "metadata": {
    "id": "P1rOYC8Is8Cf"
   },
   "source": [
    "## <u>Problem 4</u>\n",
    "\n",
    "### A school has following rules for grading system:\n",
    "* Below 25 - F\n",
    "* 25 to 45 - E\n",
    "* 45 to 50 - D\n",
    "* 50 to 60 - C\n",
    "* 60 to 80 - B\n",
    "* Above 80 - A\n",
    "\n",
    "Keep the left number inclusive and the right number exclusive, something like [25,45) for grade E where the set is closed at 25 and open at 45.\n",
    "\n",
    "Write a Python code which takes marks as inputs from the user and print the corresponding grade."
   ]
  },
  {
   "cell_type": "code",
   "execution_count": 67,
   "metadata": {
    "id": "ySeGyCtCs8Cg"
   },
   "outputs": [
    {
     "name": "stdout",
     "output_type": "stream",
     "text": [
      "Enter your marks\n"
     ]
    },
    {
     "name": "stdin",
     "output_type": "stream",
     "text": [
      " 45\n"
     ]
    }
   ],
   "source": [
    "# Your input here\n",
    "print(\"Enter your marks\")\n",
    "marks = int(input())"
   ]
  },
  {
   "cell_type": "code",
   "execution_count": 69,
   "metadata": {
    "id": "MI7mOHaqs8Cj"
   },
   "outputs": [
    {
     "name": "stdout",
     "output_type": "stream",
     "text": [
      "D\n"
     ]
    }
   ],
   "source": [
    "# Your code here to print the corresponding grade\n",
    "if marks<25:\n",
    "    print(\"F\")\n",
    "elif 25<=marks<45:\n",
    "    print(\"E\")\n",
    "elif 45<=marks<50:\n",
    "    print(\"D\")\n",
    "elif 50<=marks<60:\n",
    "    print(\"C\")\n",
    "elif 60<=marks<80:\n",
    "    print(\"B\")\n",
    "else:\n",
    "    print(\"A\")\n",
    "    \n",
    "\n",
    "\n",
    "\n",
    "\n",
    "\n",
    "\n",
    "\n",
    "\n",
    "\n"
   ]
  },
  {
   "cell_type": "code",
   "execution_count": null,
   "metadata": {},
   "outputs": [],
   "source": []
  }
 ],
 "metadata": {
  "colab": {
   "provenance": []
  },
  "kernelspec": {
   "display_name": "Python 3 (ipykernel)",
   "language": "python",
   "name": "python3"
  },
  "language_info": {
   "codemirror_mode": {
    "name": "ipython",
    "version": 3
   },
   "file_extension": ".py",
   "mimetype": "text/x-python",
   "name": "python",
   "nbconvert_exporter": "python",
   "pygments_lexer": "ipython3",
   "version": "3.12.4"
  }
 },
 "nbformat": 4,
 "nbformat_minor": 4
}
