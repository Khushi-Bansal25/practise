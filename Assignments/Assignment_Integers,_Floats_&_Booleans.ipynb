{
 "cells": [
  {
   "cell_type": "markdown",
   "metadata": {
    "id": "JRdjdmztDelX"
   },
   "source": [
    "## <u>While doing this assignment only use those concepts which have been taught till now</u>"
   ]
  },
  {
   "cell_type": "markdown",
   "metadata": {
    "id": "8ECk3jeWDelY"
   },
   "source": [
    "## <u>Problem 1</u>\n",
    "\n",
    "In a cricket tournament, based on the outcome of a particular match a team gets following points:\n",
    "* <code>wins</code> gets <code>3</code> points\n",
    "* <code>draws</code> gets <code>1</code> points\n",
    "* <code>losses</code> gets <code>0</code> points\n",
    "\n",
    "Team Aravali plays <code>8</code> matches in this tournament. It wins <code>4</code> matches, loses <code>3</code> matches and draws <code>1</code>. What is the total number of points gained by the Team Aravali?"
   ]
  },
  {
   "cell_type": "code",
   "execution_count": 1,
   "metadata": {
    "id": "m68YV3OhDelZ"
   },
   "outputs": [],
   "source": [
    "# The outcome variables are defined below\n",
    "wins = 4\n",
    "losses = 3\n",
    "draws = 1"
   ]
  },
  {
   "cell_type": "code",
   "execution_count": 2,
   "metadata": {
    "colab": {
     "base_uri": "https://localhost:8080/"
    },
    "id": "2cnTsWvODelc",
    "outputId": "291b0839-110c-49a2-aca9-50b5541cd5d2"
   },
   "outputs": [
    {
     "name": "stdout",
     "output_type": "stream",
     "text": [
      "13\n"
     ]
    }
   ],
   "source": [
    "print((wins*3)+(losses*0)+(draws*1))"
   ]
  },
  {
   "cell_type": "markdown",
   "metadata": {
    "id": "-ioInfYKDelh"
   },
   "source": [
    "## <u>Problem 2 </u>\n",
    "\n",
    "* Root of a function $f(x)$ is defined as the value $x$ where $f(x)=0$\n",
    "* Consider a quadratic function $ f(x) = x^2 + 3x - 4$\n",
    "\n",
    "### Find the value of the function $f(x)$ at points   $x=2,x=-1, x=1$."
   ]
  },
  {
   "cell_type": "code",
   "execution_count": 3,
   "metadata": {
    "colab": {
     "base_uri": "https://localhost:8080/"
    },
    "id": "4_HZwes5Delh",
    "outputId": "d0ef3404-df68-41bf-ee24-66bbfa3774df"
   },
   "outputs": [
    {
     "name": "stdout",
     "output_type": "stream",
     "text": [
      "6\n"
     ]
    }
   ],
   "source": [
    "# Calculate the value of the function f(x) at x = 2\n",
    "func_evaluated_at_2 = (2**2+3*2-4)\n",
    "# Print the value below\n",
    "print(func_evaluated_at_2)"
   ]
  },
  {
   "cell_type": "code",
   "execution_count": 6,
   "metadata": {
    "colab": {
     "base_uri": "https://localhost:8080/"
    },
    "id": "uD4MAyKIDelo",
    "outputId": "5936c8c9-0d69-4da4-87d5-97fbdb11ec6b"
   },
   "outputs": [
    {
     "name": "stdout",
     "output_type": "stream",
     "text": [
      "-6\n"
     ]
    }
   ],
   "source": [
    "# Calculate the value of the function f(x) at x = -1\n",
    "func_evaluated_at_minus1 = ((-1)**2)+(3*-1)-4\n",
    "# Print the value below\n",
    "print(func_evaluated_at_minus1)"
   ]
  },
  {
   "cell_type": "code",
   "execution_count": 7,
   "metadata": {
    "colab": {
     "base_uri": "https://localhost:8080/"
    },
    "id": "h8PgF85VDelu",
    "outputId": "58efdfa7-f11f-4ff9-ade5-60d0ab836b99"
   },
   "outputs": [
    {
     "name": "stdout",
     "output_type": "stream",
     "text": [
      "0\n"
     ]
    }
   ],
   "source": [
    "# Calculate the value of the function f(x) at x = 1\n",
    "func_evaluated_at_1 = 1**2+3*1-4\n",
    "# Print the type of the variable below\n",
    "print(func_evaluated_at_1)"
   ]
  },
  {
   "cell_type": "markdown",
   "metadata": {
    "id": "EvldlcwqDelz"
   },
   "source": [
    "### Return the boolean for each value of $x$ to find out whether that value is a root of $f(x)$"
   ]
  },
  {
   "cell_type": "code",
   "execution_count": 8,
   "metadata": {
    "colab": {
     "base_uri": "https://localhost:8080/"
    },
    "id": "-tUSAgzgDel0",
    "outputId": "dd2a1b47-58c7-420a-f272-f9f34a49d060"
   },
   "outputs": [
    {
     "data": {
      "text/plain": [
       "False"
      ]
     },
     "execution_count": 8,
     "metadata": {},
     "output_type": "execute_result"
    }
   ],
   "source": [
    "# Check whether 2 is a root of f(x)\n",
    "func_evaluated_at_2 = 2**2+3*2-4\n",
    "func_evaluated_at_2 == 0"
   ]
  },
  {
   "cell_type": "code",
   "execution_count": 9,
   "metadata": {
    "colab": {
     "base_uri": "https://localhost:8080/"
    },
    "id": "gsNS4Ki4Del2",
    "outputId": "d3cd7b0d-2735-4acb-943e-2b01ae1f3cc2"
   },
   "outputs": [
    {
     "data": {
      "text/plain": [
       "False"
      ]
     },
     "execution_count": 9,
     "metadata": {},
     "output_type": "execute_result"
    }
   ],
   "source": [
    "# Check whether -1 is a root of f(x)\n",
    "func_evaluated_at_minus1 = -1**2+3*-1-4\n",
    "func_evaluated_at_minus1 ==0"
   ]
  },
  {
   "cell_type": "code",
   "execution_count": 10,
   "metadata": {
    "colab": {
     "base_uri": "https://localhost:8080/"
    },
    "id": "yExDY-ZXDel4",
    "outputId": "75695fab-41b4-482e-c3c1-26e08306cc8d"
   },
   "outputs": [
    {
     "data": {
      "text/plain": [
       "True"
      ]
     },
     "execution_count": 10,
     "metadata": {},
     "output_type": "execute_result"
    }
   ],
   "source": [
    "# Check whether 1 is a root of f(x)\n",
    "func_evaluated_at_1 = 1**2+3*1-4\n",
    "func_evaluated_at_1 ==0"
   ]
  },
  {
   "cell_type": "markdown",
   "metadata": {
    "id": "tNAI2AHRDel6"
   },
   "source": [
    "## <u> Problem 3 </u>\n",
    "\n",
    "A bag contains <code>45</code> apples, <code>65</code> oranges and <code>30</code> bananas. Find the percentage of each type of food items in the bag."
   ]
  },
  {
   "cell_type": "code",
   "execution_count": 15,
   "metadata": {
    "colab": {
     "base_uri": "https://localhost:8080/"
    },
    "id": "XJ9Rq4P3Del7",
    "outputId": "29f95994-c556-4888-e2e9-311e29aa6654"
   },
   "outputs": [
    {
     "name": "stdout",
     "output_type": "stream",
     "text": [
      "32.14 %\n"
     ]
    }
   ],
   "source": [
    "# Calculate the percentage of apples and print the variable\n",
    "a,o,b=45,65,30\n",
    "t=a+o+b\n",
    "print(round((a/t)*100,2),\"%\")"
   ]
  },
  {
   "cell_type": "code",
   "execution_count": 16,
   "metadata": {
    "colab": {
     "base_uri": "https://localhost:8080/"
    },
    "id": "S6lJZtaXDel9",
    "outputId": "ed1092c8-77a1-48b5-a462-bd19a0250843"
   },
   "outputs": [
    {
     "name": "stdout",
     "output_type": "stream",
     "text": [
      "46.43 %\n"
     ]
    }
   ],
   "source": [
    "# Calculate the percentage of oranges and print the variable\n",
    "print(round((o/t)*100,2),\"%\")"
   ]
  },
  {
   "cell_type": "code",
   "execution_count": 17,
   "metadata": {
    "colab": {
     "base_uri": "https://localhost:8080/"
    },
    "id": "mHzMnSZrDemB",
    "outputId": "7e95b91f-3965-49fd-f13b-696ab872bdc8"
   },
   "outputs": [
    {
     "name": "stdout",
     "output_type": "stream",
     "text": [
      "21.43 %\n"
     ]
    }
   ],
   "source": [
    "# Calculate the percentage of bananas and print the variable\n",
    "print(round((b/t)*100,2),\"%\")"
   ]
  },
  {
   "cell_type": "markdown",
   "metadata": {
    "id": "F44LczfzDemD"
   },
   "source": [
    "## <u>Problem 4</u>\n",
    "\n",
    "You were playing a fun guessing game during your school break. There were a total of 100 participants excluding you. Out of these 100 people, 30 were Maths Majors, 45 were Economics Majors and 25 were Physics Majors.\n",
    "\n",
    "The game was divided into three rounds.\n",
    "\n",
    "* In the first round, you had to guess the number of Maths Majors and you <b>correctly</b> guessed 20 of them.\n",
    "* In the second round, you had to guess the number of Economics Majors and you <b>correctly</b> guessed 30 of them.\n",
    "* In the final third round, you had to guess the number of Physics Majors and you <b>correctly</b> guessed 20 of them.\n",
    "\n",
    "### Accuracy is defined as the number of correct guesses upon total number of people in the group (expressed in percentage)"
   ]
  },
  {
   "cell_type": "markdown",
   "metadata": {
    "id": "lkGEV_zpDemE"
   },
   "source": [
    "* ### Define your variables"
   ]
  },
  {
   "cell_type": "code",
   "execution_count": 22,
   "metadata": {
    "colab": {
     "base_uri": "https://localhost:8080/"
    },
    "id": "OfXY9LcVDemF",
    "outputId": "40b6d013-222c-4b0d-c6be-5185af4b154a"
   },
   "outputs": [
    {
     "name": "stdout",
     "output_type": "stream",
     "text": [
      "math acc 66.66666666666666\n",
      "eco acc 66.66666666666666\n",
      "phy acc 80.0\n",
      "avg 70.0\n"
     ]
    }
   ],
   "source": [
    "mm=30\n",
    "em=45\n",
    "pm=25\n",
    "mm_acc=20/mm\n",
    "em_acc=30/em\n",
    "pm_acc=20/pm\n",
    "avg=(70/100)*100\n",
    "print(\"math acc\",mm_acc*100)\n",
    "print(\"eco acc\",em_acc*100)\n",
    "print(\"phy acc\",pm_acc*100)\n",
    "print(\"avg\",avg)"
   ]
  },
  {
   "cell_type": "code",
   "execution_count": 18,
   "metadata": {},
   "outputs": [
    {
     "ename": "SyntaxError",
     "evalue": "invalid syntax (1977726605.py, line 1)",
     "output_type": "error",
     "traceback": [
      "\u001b[1;36m  Cell \u001b[1;32mIn[18], line 1\u001b[1;36m\u001b[0m\n\u001b[1;33m    Maths accuracy: 66.66666666666667\u001b[0m\n\u001b[1;37m          ^\u001b[0m\n\u001b[1;31mSyntaxError\u001b[0m\u001b[1;31m:\u001b[0m invalid syntax\n"
     ]
    }
   ],
   "source": [
    "Maths accuracy: 66.66666666666667\n",
    "Economics accuracy: 66.66666666666667\n",
    "Physics accuracy: 80.0\n",
    "Total Accuracy: 70.0"
   ]
  },
  {
   "cell_type": "code",
   "execution_count": null,
   "metadata": {},
   "outputs": [],
   "source": []
  }
 ],
 "metadata": {
  "colab": {
   "provenance": []
  },
  "kernelspec": {
   "display_name": "Python 3 (ipykernel)",
   "language": "python",
   "name": "python3"
  },
  "language_info": {
   "codemirror_mode": {
    "name": "ipython",
    "version": 3
   },
   "file_extension": ".py",
   "mimetype": "text/x-python",
   "name": "python",
   "nbconvert_exporter": "python",
   "pygments_lexer": "ipython3",
   "version": "3.12.5"
  }
 },
 "nbformat": 4,
 "nbformat_minor": 4
}
