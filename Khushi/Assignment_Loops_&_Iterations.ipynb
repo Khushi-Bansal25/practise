{
 "cells": [
  {
   "cell_type": "markdown",
   "metadata": {
    "id": "DbG5aM4YkzEn"
   },
   "source": [
    "#### The SETI Institute is a not-for-profit research organization incorporated in 1984 whose mission is to explore, understand, and explain the origin and nature of life in the universe, and to apply the knowledge gained to inspire and guide present and future generations. It aims for discovery and for sharing knowledge as scientific ambassadors to the public, the press, and the government. SETI stands for the \"Search for Extraterrestrial Intelligence\".\n",
    "\n",
    "#### SETI received some signals from a far away galaxy on June 14, 2012. These signals could have been from a possible alien civilization (similar to what you would have seen in the movie Arrival).\n",
    "\n",
    "#### The signals indicated the existence of a secret language for sending messages across. Following are the observations made by the SETI team who discovered these signals :\n",
    "\n",
    "*   Aliens share a **tuple**, each element of tuple will be a **string** of alphabets\n",
    "*   Scientists still don't know what is the content of the strings inside the tuples but depending upon the length of the string, the string translates into an alphabet (0 ≡  ,1 ≡ A, 2 ≡ B, 3 ≡ C, .., 26 ≡ Z)\n",
    "*   **Space** between the words of the message is represented by an **empty string**\n",
    "\n",
    "<br> <u>A sample message received by SETI </u><br>\n",
    "\n",
    "**ADAM EVE** is denoted by the following tuple:\n",
    "\n",
    "<code>\n",
    " t = (\"s\", \"dymw\", \"z\", \"ndkjaakjkjnda\",\"\",\"tybhg\",\"nmbcjbabdbsabbsbhdbshr\",\"htroy\" )</code>\n",
    "\n",
    "\n",
    "Explanation:\n",
    "* A list of length of each element in the tuple is : <code>[1,4,1,13,0,5,22,5]</code>\n",
    "* Upon replacing numbers with corresponding alphabets and spaces, we get :\n",
    "<code>['A','D','A','M','','E','V','E'] </code>\n",
    "\n",
    "\n",
    "\n",
    "\n",
    "\n",
    "\n",
    "\n",
    "\n"
   ]
  },
  {
   "cell_type": "markdown",
   "metadata": {
    "id": "OpbPVo_bwo2B"
   },
   "source": [
    "### <u>Problem 1</u>\n",
    "\n",
    "#### Create a dictionary where the key corresponds to the position of the alphabet(consider space as the first alphabet) and the value corresponding to the key will be the alphabet.\n",
    "\n",
    "#### <code>range()</code> function in Python is pretty useful to get a list of numbers in sequence. You can use <code>help(range)</code> to know more about its details"
   ]
  },
  {
   "cell_type": "code",
   "execution_count": 15,
   "metadata": {
    "colab": {
     "base_uri": "https://localhost:8080/",
     "height": 34
    },
    "id": "l9K6_UWqkyOC",
    "outputId": "00655732-fddc-437f-b0c3-40ed494a217c"
   },
   "outputs": [
    {
     "name": "stdout",
     "output_type": "stream",
     "text": [
      "[' ', 'a', 'b', 'c', 'd', 'e', 'f', 'g', 'h', 'i', 'j', 'k', 'l', 'm', 'n', 'o', 'p', 'q', 'r', 's', 't', 'u', 'v', 'w', 'x', 'y', 'z']\n"
     ]
    }
   ],
   "source": [
    "# Create your dictionary below with keys as position of the alphabet and the value of the key will be the alphabet itself\n",
    "\n",
    "# Create a list of numbers from 0 to 26 using the range() function\n",
    "list_of_numbers = list(range(27))\n",
    "\n",
    "# Create the list of alphabets. Hint use the split() method\n",
    "alphabets = \" ,a,b,c,d,e,f,g,h,i,j,k,l,m,n,o,p,q,r,s,t,u,v,w,x,y,z\"\n",
    "alphabet_list = alphabets.split(\",\")\n",
    "\n",
    "print(alphabet_list)"
   ]
  },
  {
   "cell_type": "code",
   "execution_count": 19,
   "metadata": {
    "id": "9bnRPQ9G971m"
   },
   "outputs": [
    {
     "name": "stdout",
     "output_type": "stream",
     "text": [
      "{0: ' ', 1: 'a', 2: 'b', 3: 'c', 4: 'd', 5: 'e', 6: 'f', 7: 'g', 8: 'h', 9: 'i', 10: 'j', 11: 'k', 12: 'l', 13: 'm', 14: 'n', 15: 'o', 16: 'p', 17: 'q', 18: 'r', 19: 's', 20: 't', 21: 'u', 22: 'v', 23: 'w', 24: 'x', 25: 'y', 26: 'z'}\n"
     ]
    }
   ],
   "source": [
    "# Create a dictionary by zipping together the above two lists\n",
    "alphabet_dict = dict(zip(list_of_numbers, alphabet_list))\n",
    "\n",
    "\n",
    "# Print your dictionary to double check;\n",
    "print(alphabet_dict)"
   ]
  },
  {
   "cell_type": "markdown",
   "metadata": {
    "id": "Lv-n7NZqKxET"
   },
   "source": [
    "### <u>Problem 2</u>\n",
    "#### Scientists receive the following message code from the alien civilization\n",
    "\n",
    "```\n",
    "encrypyted_message = (\"ajsuydtbe\", \"\", \"wunjbfusnjrgut\", \"uhbhr\", \"oirun\", \"lpef\", \"\", \"vhejsibr\", \"ydtse\", \"qlvuusrntuos\", \"ijwlbutybhlsoaxh\")\n",
    "```\n",
    "#### You have been asked to decode the above message"
   ]
  },
  {
   "cell_type": "code",
   "execution_count": 21,
   "metadata": {
    "id": "7CC7IqIdKP-q"
   },
   "outputs": [],
   "source": [
    "# Store the message in a variable\n",
    "encrypted_message = (\"ajsuydtbe\", \"\", \"wunjbfusnjrgut\", \"uhbhr\", \"oirun\", \"lpef\", \"\", \"vhejsibr\", \"ydtse\", \"qlvuusrntuos\", \"ijwlbutybhlsoaxh\")"
   ]
  },
  {
   "cell_type": "code",
   "execution_count": 23,
   "metadata": {
    "id": "fxLQFN5QMH0I"
   },
   "outputs": [
    {
     "name": "stdout",
     "output_type": "stream",
     "text": [
      "[9, 0, 14, 5, 5, 4, 0, 8, 5, 12, 16]\n"
     ]
    }
   ],
   "source": [
    "# Follow the steps from your solution to problem 1\n",
    "\n",
    "# Create an empty list\n",
    "string_length_list  = []\n",
    "\n",
    "# Append the length of strings of your tuple using a for loop\n",
    "for i in encrypted_message:\n",
    "    string_length_list.append(len(i))\n",
    "\n",
    "# Print the list of string lengths\n",
    "print(string_length_list)\n"
   ]
  },
  {
   "cell_type": "code",
   "execution_count": 25,
   "metadata": {
    "id": "qpvaTUsUNiu9"
   },
   "outputs": [
    {
     "name": "stdout",
     "output_type": "stream",
     "text": [
      "i need help\n"
     ]
    }
   ],
   "source": [
    "# Create a string to store the decrypyted message\n",
    "decrypted_message = \"\"\n",
    "\n",
    "# Concatenate the characters using a for loop to get your final decoded message\n",
    "for i in string_length_list:\n",
    "    decrypted_message+=alphabet_dict[i]\n",
    "\n",
    "# Print the message you have decrypted\n",
    "print(decrypted_message)"
   ]
  },
  {
   "cell_type": "markdown",
   "metadata": {
    "id": "EaYw9Z03TlYa"
   },
   "source": [
    "### <u> Problem 3</u>\n",
    "\n",
    "#### Aliens receive the reply from the scientists. They decode the message and send an encrypted message again. Due to some aberrations because of an existing very massive star, one of the words of their message gets transformed into something gibberish/unreadable. They sent the following message:\n",
    "\n",
    "* <code> I saw a \\<**some gibberish**> please help me soon\n",
    "\n",
    "#### Scientists were baffled by the presence of such an indecipherable word in the message sent by Aliens. Suddenly they receive another signal from them which contains the gibberish word but this time the letters have been jumbled up. Scientists need to sort the letters of this word in alphabetical order within it to get the actual transmitted word\n",
    "\n",
    "#### The encoded list of the unknown word is:\n",
    "\n",
    "```\n",
    "jumbled_word = [\"hugdtck\", \"tsogbklesrawqcbjplu\", \"qkisrubskoaitbt\", \"nslaoetr\", \"oksinjioaendnjsdqwbh\"]\n",
    "```\n"
   ]
  },
  {
   "cell_type": "code",
   "execution_count": 29,
   "metadata": {
    "id": "--89g4fAVP6i"
   },
   "outputs": [],
   "source": [
    "# Store the list of jumbled word in a variable\n",
    "jumbled_word = [\"hugdtck\", \"tsogbklesrawqcbjplu\", \"qkisrubskoaitbt\", \"nslaoetr\", \"oksinjioaendnjsdqwbh\"]"
   ]
  },
  {
   "cell_type": "code",
   "execution_count": 31,
   "metadata": {
    "id": "REhBM4O0WB6i"
   },
   "outputs": [
    {
     "name": "stdout",
     "output_type": "stream",
     "text": [
      "[7, 19, 15, 8, 20]\n",
      "['g', 's', 'o', 'h', 't']\n"
     ]
    }
   ],
   "source": [
    "# Create an empty list\n",
    "string_length_list = []\n",
    "\n",
    "# Append the length of each string in the list using a for loop\n",
    "for i in jumbled_word:\n",
    "    string_length_list.append(len(i))\n",
    "# Print the above list\n",
    "print(string_length_list)\n",
    "\n",
    "# Create another list to store the corresponding characters and add the characters using for loop\n",
    "chars_in_jumbled_state = []\n",
    "for i in string_length_list:\n",
    "    chars_in_jumbled_state.append(alphabet_dict[i])\n",
    "\n",
    "# Print this list of jumbled characters\n",
    "print(chars_in_jumbled_state)"
   ]
  },
  {
   "cell_type": "code",
   "execution_count": null,
   "metadata": {
    "id": "APZPcWabCmL-"
   },
   "outputs": [],
   "source": [
    "# Get the  sorted list\n",
    "sorted_char_list = sorted(chars_in_jumbled_state)\n",
    "\n",
    "# Print the sorted list\n",
    "print(sorted_char_list)\n",
    "\n",
    "# Get all the characters in one word. Use join() method on a null string and pass the sorted char list as the argument of this method. Use help(join) to know more about it.\n",
    "correct_word = ''.join(sorted_char_list)\n",
    "\n",
    "# Print the complete message\n",
    "print(f\"I saw a {correct_word} please help me soon\")"
   ]
  },
  {
   "cell_type": "markdown",
   "metadata": {
    "id": "BhlJiGNfC8r-"
   },
   "source": [
    "## <u> Problem 4</u>\n",
    "\n",
    "### A perfect number is a positive integer that is equal to the sum of its proper divisors. The smallest perfect number is 6, which is the sum of 1, 2, and 3. Based on a given user input, you need to print whether the input is a perfect number or not. Check on sample inputs such as 28, 128, 200, 496"
   ]
  },
  {
   "cell_type": "code",
   "execution_count": 11,
   "metadata": {
    "colab": {
     "base_uri": "https://localhost:8080/",
     "height": 34
    },
    "id": "lk1KMEkcE2Pt",
    "outputId": "4d87f68e-65eb-4b46-b5fd-128c5bee364e"
   },
   "outputs": [
    {
     "name": "stdin",
     "output_type": "stream",
     "text": [
      " 6\n"
     ]
    }
   ],
   "source": [
    "# Take the user input\n",
    "\n",
    "perfect_number_candidate = int(input())"
   ]
  },
  {
   "cell_type": "code",
   "execution_count": 13,
   "metadata": {
    "id": "CP0cCudsI6U-"
   },
   "outputs": [
    {
     "name": "stdout",
     "output_type": "stream",
     "text": [
      "6 is a perfect number\n"
     ]
    }
   ],
   "source": [
    "# Using a while loop check if a number is a perfect number\n",
    "i = 1\n",
    "sum_of_divisors = 0 \n",
    "while i <= perfect_number_candidate // 2:\n",
    "    if perfect_number_candidate % i == 0:\n",
    "        sum_of_divisors += i\n",
    "    i += 1\n",
    "\n",
    "if sum_of_divisors == perfect_number_candidate:\n",
    "    print(f\"{perfect_number_candidate} is a perfect number\")\n",
    "else:\n",
    "    print(f\"{perfect_number_candidate} is not a perfect number\")\n"
   ]
  },
  {
   "cell_type": "markdown",
   "metadata": {
    "id": "hsmBSIrtFvlr"
   },
   "source": [
    "## <u> Problem 5</u>\n",
    "\n",
    "### Consider a famous movie line by Liam Neeson. You need to print only those words from this famous line whose length is greater than 3. Also the output words should be unique.You need to take care of the special characters such as ,. Characters such as apostrophe will be considered to be part of the word."
   ]
  },
  {
   "cell_type": "code",
   "execution_count": 3,
   "metadata": {
    "id": "E9GOFXVOFcsJ"
   },
   "outputs": [
    {
     "name": "stdout",
     "output_type": "stream",
     "text": [
      "If you let my daughter go now that'll be the end of it I will not look for you I will not pursue you But if you don't I will look for you I will find you and I will kill you\n"
     ]
    }
   ],
   "source": [
    "# Liam Neeson's quote\n",
    "movie_quote = \"If you let my daughter go now, that'll be the end of it. I will not look for you, I will not pursue you. But if you don't, I will look for you, I will find you, and I will kill you.\"\n",
    "\n",
    "# Remove the characters which are not to be considered. In this case they include characters such as , .\n",
    "movie_quote=movie_quote.replace(\".\",\"\").replace(\",\",\"\")\n",
    "\n",
    "\n",
    "# Print the modified movie quote\n",
    "print(movie_quote)"
   ]
  },
  {
   "cell_type": "code",
   "execution_count": 7,
   "metadata": {
    "id": "o2ROjZNXHYgW"
   },
   "outputs": [
    {
     "name": "stdout",
     "output_type": "stream",
     "text": [
      "['daughter', \"that'll\", 'will', 'look', 'will', 'pursue', \"don't\", 'will', 'look', 'will', 'find', 'will', 'kill']\n",
      "{'pursue', \"that'll\", \"don't\", 'daughter', 'find', 'will', 'kill', 'look'}\n"
     ]
    }
   ],
   "source": [
    "# Convert your sentence to a list of words\n",
    "list_of_words = movie_quote.split(\" \")\n",
    "\n",
    "\n",
    "# Using a for loop, print the words whose length is greater than 3\n",
    "words_we_want = []\n",
    "for i in list_of_words:\n",
    "    if len(i)>3:\n",
    "        words_we_want.append(i)\n",
    "\n",
    "\n",
    "# Take only unique words\n",
    "print(words_we_want)\n",
    "unique_words = set(words_we_want)\n",
    "print(unique_words)"
   ]
  },
  {
   "cell_type": "code",
   "execution_count": null,
   "metadata": {
    "id": "HdYktKBXHqj9"
   },
   "outputs": [],
   "source": []
  }
 ],
 "metadata": {
  "colab": {
   "provenance": []
  },
  "kernelspec": {
   "display_name": "Python 3 (ipykernel)",
   "language": "python",
   "name": "python3"
  },
  "language_info": {
   "codemirror_mode": {
    "name": "ipython",
    "version": 3
   },
   "file_extension": ".py",
   "mimetype": "text/x-python",
   "name": "python",
   "nbconvert_exporter": "python",
   "pygments_lexer": "ipython3",
   "version": "3.12.4"
  }
 },
 "nbformat": 4,
 "nbformat_minor": 4
}
