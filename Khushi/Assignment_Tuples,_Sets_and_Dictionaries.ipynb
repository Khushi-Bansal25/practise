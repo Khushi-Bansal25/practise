{
 "cells": [
  {
   "cell_type": "markdown",
   "metadata": {
    "id": "8WbUJEVzs8Bx"
   },
   "source": [
    "## <u>While doing this assignment only use those concepts which have been taught till now</u>"
   ]
  },
  {
   "cell_type": "markdown",
   "metadata": {
    "id": "KjPWYK0Rs8By"
   },
   "source": [
    "## <u>Problem 1</u>\n",
    "\n",
    "### Another measure of average\n",
    "\n",
    "* Mode is defined as the value that appears most often in a set of data values. Mode corresponds to the most frequent value.\n",
    "* You are given a list of numbers and you need to calculate the mode of this list"
   ]
  },
  {
   "cell_type": "code",
   "execution_count": 21,
   "metadata": {
    "colab": {
     "base_uri": "https://localhost:8080/"
    },
    "id": "34TbaGurs8Bz",
    "outputId": "48391e1b-5531-4f87-fa8f-5073f06f43a2"
   },
   "outputs": [
    {
     "name": "stdout",
     "output_type": "stream",
     "text": [
      "[2, 3, 1, 2, 1, 1]\n",
      "34\n"
     ]
    }
   ],
   "source": [
    "# A list containing average daily temperature over 10 days\n",
    "temperatures = [34, 40, 29, 33, 42, 40, 39, 34, 34,33 ]\n",
    "# Step 1 : Find the unique set of values. Store this in a list\n",
    "unique_temperatures = list(set(temperatures))\n",
    "# Print the unique temperature list\n",
    "# print(unique_temperatures)\n",
    "# Step 2 : Create an empty dictionary which will contain the unique temperatures as keys and their counts in the original temperatures list as values\n",
    "tempdict = {}\n",
    "\n",
    "# Set the values for each key separately\n",
    "# First key\n",
    "tempdict[33] = temperatures.count(33)\n",
    "# Second key\n",
    "tempdict[34] = temperatures.count(34)\n",
    "# Third key\n",
    "tempdict[39] = temperatures.count(39)\n",
    "# Fourth key\n",
    "tempdict[40] = temperatures.count(40)\n",
    "# Fifth key\n",
    "tempdict[42] = temperatures.count(42)\n",
    "# Sixth key\n",
    "tempdict[29] = temperatures.count(29)\n",
    "\n",
    "# Step 3: Store the dictionary values in a list\n",
    "dict_values = list(tempdict.values())\n",
    "\n",
    "# Print the list of dictionary values\n",
    "print(dict_values)\n",
    "# Find the index of the most frequent temperature value\n",
    "most_used = dict_values.index(max(dict_values))\n",
    "# Print the index\n",
    "# print(most_frequent_temp_index)\n",
    "# Step 4 : Create the list of dictionary keys\n",
    "keyvalues = list(tempdict.keys())\n",
    "# Print the list of dictionary keys\n",
    "# print(temp_dict_keys)\n",
    "# Calculate the mode temperature\n",
    "mode = keys[most_used]\n",
    "print(mode)"
   ]
  },
  {
   "cell_type": "markdown",
   "metadata": {
    "id": "5qd8g8UUs8CM"
   },
   "source": [
    "## <u>Problem 2 </u>\n",
    "\n",
    "### Challenging the immutability of tuples\n",
    "\n",
    "You are given a list of tuples. You need to replace the last element of the last tuple"
   ]
  },
  {
   "cell_type": "code",
   "execution_count": 26,
   "metadata": {
    "colab": {
     "base_uri": "https://localhost:8080/"
    },
    "id": "FBJy9Sq_s8CN",
    "outputId": "6171b60e-ccb1-4fc9-faf4-ed8f8227ad84"
   },
   "outputs": [
    {
     "name": "stdout",
     "output_type": "stream",
     "text": [
      "[(10, 20, 30), (30, 40, 50), (50, 60, 100)]\n"
     ]
    }
   ],
   "source": [
    "# Input list of tuples\n",
    "\n",
    "list_of_tuples = [(10,20,30),(30,40,50),(50,60,70)]\n",
    "\n",
    "\n",
    "# Expected output : Replace the last element 70 with 100\n",
    "# output_list = [(10,20,30),(30,40,50),(50,60,100)]\n",
    "# Your code here\n",
    "t = list(list_of_tuples[2])\n",
    "list_of_tuples.pop()\n",
    "t[2] = 100\n",
    "list_of_tuples.append(tuple(t))\n",
    "# Print the output list\n",
    "print(list_of_tuples)"
   ]
  },
  {
   "cell_type": "markdown",
   "metadata": {
    "id": "ejRCi-vTs8CU"
   },
   "source": [
    "## <u> Problem 3 </u>\n",
    "\n",
    "Natural Language Processing or NLP is one of the most promising fields in Machine Learning. Most of the times in NLP we deal with the textual data (a bunch of strings). Sometimes when we are processing the text, it is a common practice to get rid of some set of stop words from our original text. By default stop words are very common words used in English language such as and, or, punctuations etc.\n",
    "\n",
    "In this exercise, you are provided with a default set of stop words and you need to add some extra set of custom words."
   ]
  },
  {
   "cell_type": "code",
   "execution_count": null,
   "metadata": {
    "colab": {
     "base_uri": "https://localhost:8080/"
    },
    "id": "C5olNuDGs8CU",
    "outputId": "dd7452dd-68a3-4a40-db57-e68423fb925d"
   },
   "outputs": [
    {
     "name": "stdout",
     "output_type": "stream",
     "text": [
      "Hello, good morning folks! Today we will announce the half yearly performance results of the company. Due to the ongoing COVID-19 pandemic, our profits have declined by 60% as compared to the last half yearly results\n"
     ]
    }
   ],
   "source": [
    "# A sample sentence\n",
    "\n",
    "sentence = 'Hello, good morning folks! Today we will announce the half yearly performance results of the company. Due to the ongoing COVID-19 pandemic, our profits have declined by 60% as compared to the last half yearly results'\n",
    "\n",
    "# Print your sentence\n",
    "print(sentence)\n"
   ]
  },
  {
   "cell_type": "code",
   "execution_count": null,
   "metadata": {
    "colab": {
     "base_uri": "https://localhost:8080/"
    },
    "id": "B4afm8gCs8CY",
    "outputId": "5af2fddc-9692-49ff-aafa-f30b505b3998"
   },
   "outputs": [
    {
     "name": "stdout",
     "output_type": "stream",
     "text": [
      "{'am', 'into', 'here', 'when', 'themselves', 'with', 'after', 'hello', 'was', 'against', 'doing', 'his', 'between', 'about', 'itself', 'a', 'again', 'below', 'himself', 'under', 'during', 'so', 'these', 'than', 'both', 'an', 'is', 'half', 'now', 'or', 'if', 'having', 'few', 'herself', 'have', 't', 'did', 'theirs', 'had', 'only', 'from', 'their', 'can', 'in', 'same', 'its', 'no', 'yearly', 'some', 'not', 'her', 'and', 'until', 'just', 'because', 'through', 'there', 'being', 'what', 'each', 'good', 'nor', 'don', 'off', 'hers', 'yourselves', 'those', 'above', 'yours', 'who', 'we', 'over', 'where', 'at', 'down', 'once', 'you', 'which', 'all', 'your', 'as', 'but', 'he', 'our', 'this', 'they', 'yourself', 'she', 'has', 'it', 'were', 'own', 'does', 'of', 'for', 'by', 'morning', 'while', 'too', 'more', 'such', 'whom', 'up', 'on', 'why', 'out', 'the', 'how', 'any', 'my', 'him', 'other', 'that', 'i', 'been', 'then', 'ours', 'ourselves', 'do', 'before', 'me', 'further', 'very', 's', 'are', 'will', 'myself', 'to', 'them', 'most', 'should', 'be'}\n",
      "{'am', 'into', 'here', 'when', 'themselves', 'with', 'after', 'hello', 'was', 'against', 'doing', 'his', 'between', 'about', 'itself', 'a', 'again', 'below', 'himself', 'under', 'during', 'so', 'these', 'than', 'both', 'an', 'is', 'half', 'now', 'or', 'if', 'having', 'few', 'herself', 'have', 't', 'did', 'theirs', 'had', 'only', 'from', 'their', 'can', 'in', 'same', 'its', 'no', 'yearly', 'some', 'not', 'her', 'and', 'until', 'just', 'because', 'through', 'there', 'being', 'what', 'each', 'good', 'nor', 'don', 'off', 'hers', 'yourselves', 'those', 'above', 'yours', 'who', 'we', 'over', 'where', 'at', 'down', 'once', 'you', 'which', 'all', 'your', 'as', 'but', 'he', 'our', 'this', 'they', 'yourself', 'she', 'has', 'it', 'were', 'own', 'does', 'of', 'for', 'by', 'morning', 'while', 'too', 'more', 'such', 'whom', 'up', 'on', 'why', 'out', 'the', 'how', 'any', 'my', 'him', 'other', 'that', 'i', 'been', 'then', 'ours', 'ourselves', 'do', 'before', 'me', 'further', 'very', 's', 'are', 'will', 'myself', 'to', 'them', 'most', 'should', 'be'}\n"
     ]
    }
   ],
   "source": [
    "# Default set of stop words\n",
    "stop_words = {\"i\", \"me\", \"my\", \"myself\", \"we\", \"our\", \"ours\", \"ourselves\", \"you\", \"your\", \"yours\", \"yourself\",\n",
    "              \"yourselves\", \"he\", \"him\", \"his\", \"himself\", \"she\", \"her\", \"hers\", \"herself\", \"it\", \"its\", \"itself\",\n",
    "              \"they\", \"them\", \"their\", \"theirs\", \"themselves\", \"what\", \"which\", \"who\", \"whom\", \"this\", \"that\",\n",
    "              \"these\", \"those\", \"am\", \"is\", \"are\", \"was\", \"were\", \"be\", \"been\", \"being\", \"have\", \"has\", \"had\",\n",
    "              \"having\", \"do\", \"does\", \"did\", \"doing\", \"a\", \"an\", \"the\", \"and\", \"but\", \"if\", \"or\", \"because\",\n",
    "              \"as\", \"until\", \"while\", \"of\", \"at\", \"by\", \"for\", \"with\", \"about\", \"against\", \"between\", \"into\",\n",
    "              \"through\", \"during\", \"before\", \"after\", \"above\", \"below\", \"to\", \"from\", \"up\", \"down\", \"in\", \"out\",\n",
    "              \"on\", \"off\", \"over\", \"under\", \"again\", \"further\", \"then\", \"once\", \"here\", \"there\", \"when\", \"where\",\n",
    "              \"why\", \"how\", \"all\", \"any\", \"both\", \"each\", \"few\", \"more\", \"most\", \"other\", \"some\", \"such\", \"no\",\n",
    "              \"nor\", \"not\", \"only\", \"own\", \"same\", \"so\", \"than\", \"too\", \"very\", \"s\", \"t\", \"can\", \"will\", \"just\",\n",
    "              \"don\", \"should\", \"now\"}\n",
    "\n",
    "# Update the set of stop words by adding the custom stop words\n",
    "custom_stop_words = [\"hello\",\"good\",\"morning\",\"half\",\"yearly\"]\n",
    "\n",
    "# Your code here\n",
    "stop_words.update(set(custom_stop_words))\n",
    "# Print the updated stop words\n",
    "print(stop_words)\n",
    "# Do the same task another way. Keep in mind to use the original set of stop_words for this piece of code\n",
    "stop_words.union(set(custom_stop_words))\n",
    "\n",
    "\n",
    "# Print the updated stop words\n",
    "print(stop_words)"
   ]
  },
  {
   "cell_type": "markdown",
   "metadata": {
    "id": "P1rOYC8Is8Cf"
   },
   "source": [
    "## <u>Problem 4</u>\n",
    "\n",
    " Write a Python script to check whether a given key already exists in a dictionary. If it does, drop that key from the dictionary. If it does not, add that key and corresponding value to the dictionary"
   ]
  },
  {
   "cell_type": "code",
   "execution_count": null,
   "metadata": {
    "colab": {
     "base_uri": "https://localhost:8080/"
    },
    "id": "ySeGyCtCs8Cg",
    "outputId": "50a27739-2c3b-4ebf-af62-06f8db2ed878"
   },
   "outputs": [
    {
     "name": "stdout",
     "output_type": "stream",
     "text": [
      "{'Name': 'Sanket', 'Skills': ['Python', 'Machine Learning', 'Deep Learning'], 'Promotion Year': [2016, 2018, 2020], 'Employee_ID': 4503233}\n"
     ]
    }
   ],
   "source": [
    "# Your dictionary\n",
    "employee_dict = {'Name':'Sanket','Skills':['Python','Machine Learning','Deep Learning'],'Band':6.0,\n",
    "                 'Promotion Year':[2016,2018,2020]}\n",
    "# Check if the key 'Employee_ID' is present in the dictionary. Hint : se a boolean variable to store this value\n",
    "bool='Employee_ID' in employee_dict\n",
    "# If not present add this key to this dictionary and the corresponding value to be 4503233\n",
    "if bool==False:\n",
    "  employee_dict['Employee_ID']=4503233\n",
    "# Check if the key 'Band' is present in the dictionary.\n",
    "bool2='Band' in employee_dict\n",
    "# If present, drop this key from the dictionary\n",
    "if bool2:\n",
    "  employee_dict.pop('Band')\n",
    "# Print the updated dictionary\n",
    "print(employee_dict)"
   ]
  }
 ],
 "metadata": {
  "colab": {
   "provenance": []
  },
  "kernelspec": {
   "display_name": "Python 3 (ipykernel)",
   "language": "python",
   "name": "python3"
  },
  "language_info": {
   "codemirror_mode": {
    "name": "ipython",
    "version": 3
   },
   "file_extension": ".py",
   "mimetype": "text/x-python",
   "name": "python",
   "nbconvert_exporter": "python",
   "pygments_lexer": "ipython3",
   "version": "3.12.4"
  }
 },
 "nbformat": 4,
 "nbformat_minor": 4
}
