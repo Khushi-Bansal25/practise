{
 "cells": [
  {
   "cell_type": "markdown",
   "metadata": {
    "id": "uoGoqLiHFo3U"
   },
   "source": [
    "## <u>While doing this assignment only use those concepts which have been taught till now</u>"
   ]
  },
  {
   "cell_type": "markdown",
   "metadata": {
    "id": "LJJbprE6Fo3V"
   },
   "source": [
    "## <u>Problem 1</u>\n",
    "\n",
    "You are given a sentence which reads <b>\"Wikipedia is a free online encyclopedia, created and edited by volunteers around the world and hosted by the Wikimedia Foundation.\"</b>\n",
    "\n",
    "Find the number of words in the given sentence."
   ]
  },
  {
   "cell_type": "code",
   "execution_count": 12,
   "metadata": {
    "colab": {
     "base_uri": "https://localhost:8080/"
    },
    "id": "bNs1w7lDFo3W",
    "outputId": "fb351995-7bf7-41bf-b21d-63cbac8350f9"
   },
   "outputs": [
    {
     "name": "stdout",
     "output_type": "stream",
     "text": [
      "20\n"
     ]
    }
   ],
   "source": [
    "# Store the given sentence in a variable\n",
    "sen =  \"Wikipedia is a free online encyclopedia, created and edited by volunteers around the world and hosted by the Wikimedia Foundation.\"\n",
    "# Calculate the total number of words in the sentence.  Hint : Use the count() method\n",
    "length = sen.count(\" \")+1\n",
    "# Print the variable num_of_words\n",
    "print(length)"
   ]
  },
  {
   "cell_type": "markdown",
   "metadata": {
    "id": "KNwy8gqZFo3h"
   },
   "source": [
    "## <u>Problem 2 </u>\n",
    "\n",
    "Write a Python code which takes a number and returns a corresponding string of hyphens. For example if the number is 3, it will return '---' , if the number is 5 it will return '-----'"
   ]
  },
  {
   "cell_type": "code",
   "execution_count": 16,
   "metadata": {
    "colab": {
     "base_uri": "https://localhost:8080/"
    },
    "id": "pA80LvUtFo3i",
    "outputId": "0cc81286-b5e9-4206-f7b6-2290ac015d29"
   },
   "outputs": [
    {
     "name": "stdin",
     "output_type": "stream",
     "text": [
      " 5\n"
     ]
    },
    {
     "name": "stdout",
     "output_type": "stream",
     "text": [
      "-----\n"
     ]
    }
   ],
   "source": [
    "# Store the user input in a variable\n",
    "inputted_number = int(input())\n",
    "# Create a string of equivalent number of hyphens. Hint : remember what happens when we multiply string by a number?\n",
    "string_of_hyphens = '-'*inputted_number\n",
    "# Print the string of hyphens\n",
    "print(string_of_hyphens)\n"
   ]
  },
  {
   "cell_type": "markdown",
   "metadata": {
    "id": "hCG8HmhRFo3u"
   },
   "source": [
    "## <u> Problem 3 </u>\n",
    "\n",
    "A string can be called a safe bridge if it has no gaps in it i.e, no spaces. You are supposed to take an input from the user and print whether the string is a safe bridge or not."
   ]
  },
  {
   "cell_type": "code",
   "execution_count": 18,
   "metadata": {
    "colab": {
     "base_uri": "https://localhost:8080/"
    },
    "id": "QLoggGagFo3x",
    "outputId": "32b7ea61-ea14-410d-df92-051ad72cc32e"
   },
   "outputs": [
    {
     "name": "stdin",
     "output_type": "stream",
     "text": [
      " heelo ns\n"
     ]
    },
    {
     "name": "stdout",
     "output_type": "stream",
     "text": [
      "It is False that the bridge is a safe bridge\n"
     ]
    }
   ],
   "source": [
    "# Store the user input in a variable\n",
    "bridge = input()\n",
    "# Return True if the bridge is safe and False if the bridge is not safe. Hint : Use the find() method\n",
    "is_safe_bridge = bridge.find(' ')==-1\n",
    "# Fill in the blanks\n",
    "print(f\"It is {is_safe_bridge} that the bridge is a safe bridge\" )"
   ]
  },
  {
   "cell_type": "markdown",
   "metadata": {
    "id": "IO-p2ILHFo37"
   },
   "source": [
    "## <u>Problem 4</u>\n",
    "\n",
    "Count the number of D's in a string inputted by the user. This will be <b>case insensitive</b>."
   ]
  },
  {
   "cell_type": "code",
   "execution_count": null,
   "metadata": {
    "colab": {
     "base_uri": "https://localhost:8080/"
    },
    "id": "CBqgtmkhFo38",
    "outputId": "02bda3ac-26ee-4e21-f26f-9f8fe59f423e"
   },
   "outputs": [
    {
     "name": "stdout",
     "output_type": "stream",
     "text": [
      "The total occurrence of D in the user_string is 5\n"
     ]
    }
   ],
   "source": [
    "# Store the user input in a variable\n",
    "user_string = 'Debris was scattered all over the yard in the densest region of Denmark'\n",
    "# Store the count of letter D in the inputted string. Note this will be a case insensitive search\n",
    "D_counts = user_string.count('D')+user_string.count('d')\n",
    "# Fill in the blanks\n",
    "print(f\"The total occurrence of D in the user_string is {D_counts}\")"
   ]
  },
  {
   "cell_type": "markdown",
   "metadata": {
    "id": "e40-mPXjFo4D"
   },
   "source": [
    "## <u>Problem 5</u>\n",
    "\n",
    "Check whether a given string is a palindrome. A palindrome is a word, number, phrase, or other sequence of characters which reads the same backward as forward, such as madam, racecar."
   ]
  },
  {
   "cell_type": "code",
   "execution_count": null,
   "metadata": {
    "colab": {
     "base_uri": "https://localhost:8080/"
    },
    "id": "qs0ZYZkzFo4D",
    "outputId": "f31ed88d-d517-46b7-d704-da488b17d101"
   },
   "outputs": [
    {
     "name": "stdout",
     "output_type": "stream",
     "text": [
      "kook\n",
      "True\n"
     ]
    }
   ],
   "source": [
    "# Store the user input in a variable\n",
    "user_string = input()\n",
    "# Print True if a string is a Palindrome else print false\n",
    "print(user_string[::-1]==user_string)"
   ]
  }
 ],
 "metadata": {
  "colab": {
   "provenance": []
  },
  "kernelspec": {
   "display_name": "Python 3 (ipykernel)",
   "language": "python",
   "name": "python3"
  },
  "language_info": {
   "codemirror_mode": {
    "name": "ipython",
    "version": 3
   },
   "file_extension": ".py",
   "mimetype": "text/x-python",
   "name": "python",
   "nbconvert_exporter": "python",
   "pygments_lexer": "ipython3",
   "version": "3.12.4"
  }
 },
 "nbformat": 4,
 "nbformat_minor": 4
}
